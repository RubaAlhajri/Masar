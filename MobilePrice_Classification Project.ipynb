{
  "cells": [
    {
      "cell_type": "markdown",
      "metadata": {
        "id": "view-in-github",
        "colab_type": "text"
      },
      "source": [
        "<a href=\"https://colab.research.google.com/github/RubaAlhajri/Masar/blob/main/MobilePrice_Classification%20Project.ipynb\" target=\"_parent\"><img src=\"https://colab.research.google.com/assets/colab-badge.svg\" alt=\"Open In Colab\"/></a>"
      ]
    },
    {
      "cell_type": "markdown",
      "metadata": {
        "id": "iaOUtEZQujrX"
      },
      "source": [
        " >\n",
        " **Mobile Price Range Classifier**"
      ]
    },
    {
      "cell_type": "markdown",
      "source": [
        "*   Ruba Alhajri\n",
        "*   Ahad Abdullah ALmutairi\n",
        "*   samia hussien goda\n",
        "\n",
        "\n",
        "\n",
        "\n"
      ],
      "metadata": {
        "id": "O9wUkHgP-sKF"
      }
    },
    {
      "cell_type": "markdown",
      "source": [
        "\n",
        " In this Project,On the basis of the mobile Specification like Battery power, 3G enabled , wifi ,Bluetooth, Ram etc we are predicting Price range of the mobile\n",
        "\n",
        "[Dataset source](https://www.kaggle.com/datasets/iabhishekofficial/mobile-price-classification?select=train.csv)\n",
        "---\n",
        "\n",
        "\n",
        "In this data:\n",
        "* battery_power:Total energy a battery can store in one time measured in mAh\n",
        "* blue:Has bluetooth or not\n",
        "* clock_speed:speed at which microprocessor executes instructions\n",
        "* dual_sim:Has dual sim support or not\n",
        "* fc:Front Camera mega pixels\n",
        "* four_g:Has 4G or not\n",
        "* int_memory:Internal Memory in Gigabytes\n",
        "* m_dep:Mobile Depth in cm\n",
        "* mobile_wt:Weight of mobile phone\n",
        "* n_cores:Number of cores of processor\n",
        "* pc:Primary Camera mega pixels\n",
        "* px_height:Pixel Resolution Height\n",
        "* px_width:Pixel Resolution Width\n",
        "* ram:Random Access Memory in Megabytes\n",
        "* sc_h:Screen Height of mobile in cm\n",
        "* sc_w:Screen Width of mobile in cm\n",
        "* talk_time:longest time that a single battery charge will last when you are\n",
        "* three_g:Has 3G or not\n",
        "* touch_screen:Has touch screen or not\n",
        "* wifi:Has wifi or not\n",
        "* Price range (target) : 0(low cost), 1(medium cost), 2(high cost), 3(high cost)\n",
        "\n",
        "---\n",
        "Applied Models:\n",
        "* Random forest\n",
        "* Logistic Regression\n",
        "* KNN\n",
        "\n",
        "\n",
        "\n"
      ],
      "metadata": {
        "id": "W7Xxao37-u4D"
      }
    },
    {
      "cell_type": "markdown",
      "metadata": {
        "id": "H_aCwCXWrIeb"
      },
      "source": [
        "# Part 1"
      ]
    },
    {
      "cell_type": "markdown",
      "metadata": {
        "id": "FTpU6p4_0RAa"
      },
      "source": [
        "## 1- Data Cleaning"
      ]
    },
    {
      "cell_type": "markdown",
      "metadata": {
        "id": "Ztl9SeOdTFCe"
      },
      "source": [
        "### importing needed libraries"
      ]
    },
    {
      "cell_type": "code",
      "execution_count": null,
      "metadata": {
        "id": "PnXF4s2RSD1Y"
      },
      "outputs": [],
      "source": [
        "import pandas as pd\n",
        "from sklearn.model_selection import train_test_split\n",
        "from sklearn.ensemble import RandomForestClassifier\n",
        "from sklearn.preprocessing import StandardScaler\n",
        "import matplotlib.pyplot as plt\n",
        "import seaborn as sns\n",
        "from sklearn.linear_model import LogisticRegression\n",
        "from sklearn.metrics import classification_report\n",
        "from sklearn.metrics import accuracy_score,confusion_matrix\n",
        "from sklearn.model_selection import train_test_split\n",
        "from sklearn.ensemble import RandomForestClassifier\n",
        "import numpy as np\n",
        "from sklearn.neighbors import KNeighborsClassifier\n",
        "import plotly.express as px\n"
      ]
    },
    {
      "cell_type": "code",
      "execution_count": null,
      "metadata": {
        "id": "6HguFoe-SFn4"
      },
      "outputs": [],
      "source": [
        "#reading csv file to df\n",
        "train_url = \"https://filebin.net/za1wkub9f9qcrgq6/train.csv\"\n",
        "df_train= pd.read_csv(train_url)\n",
        "\n",
        "\n",
        "\n"
      ]
    },
    {
      "cell_type": "code",
      "execution_count": null,
      "metadata": {
        "colab": {
          "base_uri": "https://localhost:8080/"
        },
        "id": "XsrE02qfTb5V",
        "outputId": "300e9e6a-5e39-4cba-90e9-9f9cd69f7194"
      },
      "outputs": [
        {
          "output_type": "stream",
          "name": "stdout",
          "text": [
            "<class 'pandas.core.frame.DataFrame'>\n",
            "RangeIndex: 2000 entries, 0 to 1999\n",
            "Data columns (total 21 columns):\n",
            " #   Column         Non-Null Count  Dtype  \n",
            "---  ------         --------------  -----  \n",
            " 0   battery_power  2000 non-null   int64  \n",
            " 1   blue           2000 non-null   int64  \n",
            " 2   clock_speed    2000 non-null   float64\n",
            " 3   dual_sim       2000 non-null   int64  \n",
            " 4   fc             2000 non-null   int64  \n",
            " 5   four_g         2000 non-null   int64  \n",
            " 6   int_memory     2000 non-null   int64  \n",
            " 7   m_dep          2000 non-null   float64\n",
            " 8   mobile_wt      2000 non-null   int64  \n",
            " 9   n_cores        2000 non-null   int64  \n",
            " 10  pc             2000 non-null   int64  \n",
            " 11  px_height      2000 non-null   int64  \n",
            " 12  px_width       2000 non-null   int64  \n",
            " 13  ram            2000 non-null   int64  \n",
            " 14  sc_h           2000 non-null   int64  \n",
            " 15  sc_w           2000 non-null   int64  \n",
            " 16  talk_time      2000 non-null   int64  \n",
            " 17  three_g        2000 non-null   int64  \n",
            " 18  touch_screen   2000 non-null   int64  \n",
            " 19  wifi           2000 non-null   int64  \n",
            " 20  price_range    2000 non-null   int64  \n",
            "dtypes: float64(2), int64(19)\n",
            "memory usage: 328.2 KB\n"
          ]
        }
      ],
      "source": [
        "# Print the full summary of the dataframe\n",
        "df_train.info()"
      ]
    },
    {
      "cell_type": "code",
      "execution_count": null,
      "metadata": {
        "colab": {
          "base_uri": "https://localhost:8080/"
        },
        "id": "d3DwsQ2kyzG6",
        "outputId": "d37fa39d-b02d-4ef0-b2ca-3bff256e3e48"
      },
      "outputs": [
        {
          "output_type": "execute_result",
          "data": {
            "text/plain": [
              "battery_power    0\n",
              "blue             0\n",
              "clock_speed      0\n",
              "dual_sim         0\n",
              "fc               0\n",
              "four_g           0\n",
              "int_memory       0\n",
              "m_dep            0\n",
              "mobile_wt        0\n",
              "n_cores          0\n",
              "pc               0\n",
              "px_height        0\n",
              "px_width         0\n",
              "ram              0\n",
              "sc_h             0\n",
              "sc_w             0\n",
              "talk_time        0\n",
              "three_g          0\n",
              "touch_screen     0\n",
              "wifi             0\n",
              "price_range      0\n",
              "dtype: int64"
            ]
          },
          "metadata": {},
          "execution_count": 4
        }
      ],
      "source": [
        "#check if there null values\n",
        "df_train.isnull().sum()"
      ]
    },
    {
      "cell_type": "code",
      "execution_count": null,
      "metadata": {
        "colab": {
          "base_uri": "https://localhost:8080/"
        },
        "id": "IaB2vpBNrAuP",
        "outputId": "d9c17549-2beb-4c82-d887-523f13bbcd28"
      },
      "outputs": [
        {
          "output_type": "execute_result",
          "data": {
            "text/plain": [
              "0"
            ]
          },
          "metadata": {},
          "execution_count": 5
        }
      ],
      "source": [
        "#check if there duplicated values\n",
        "df_train.duplicated().sum()"
      ]
    },
    {
      "cell_type": "code",
      "execution_count": null,
      "metadata": {
        "colab": {
          "base_uri": "https://localhost:8080/",
          "height": 412
        },
        "id": "5wSPtQsnrBCG",
        "outputId": "7c3504b9-b351-47ec-f6cd-34337742538f"
      },
      "outputs": [
        {
          "output_type": "execute_result",
          "data": {
            "text/plain": [
              "   battery_power  blue  clock_speed  dual_sim  fc  four_g  int_memory  m_dep  \\\n",
              "0            842     0          2.2         0   1       0           7    0.6   \n",
              "1           1021     1          0.5         1   0       1          53    0.7   \n",
              "2            563     1          0.5         1   2       1          41    0.9   \n",
              "3            615     1          2.5         0   0       0          10    0.8   \n",
              "4           1821     1          1.2         0  13       1          44    0.6   \n",
              "5           1859     0          0.5         1   3       0          22    0.7   \n",
              "6           1821     0          1.7         0   4       1          10    0.8   \n",
              "7           1954     0          0.5         1   0       0          24    0.8   \n",
              "8           1445     1          0.5         0   0       0          53    0.7   \n",
              "9            509     1          0.6         1   2       1           9    0.1   \n",
              "\n",
              "   mobile_wt  n_cores  ...  px_height  px_width   ram  sc_h  sc_w  talk_time  \\\n",
              "0        188        2  ...         20       756  2549     9     7         19   \n",
              "1        136        3  ...        905      1988  2631    17     3          7   \n",
              "2        145        5  ...       1263      1716  2603    11     2          9   \n",
              "3        131        6  ...       1216      1786  2769    16     8         11   \n",
              "4        141        2  ...       1208      1212  1411     8     2         15   \n",
              "5        164        1  ...       1004      1654  1067    17     1         10   \n",
              "6        139        8  ...        381      1018  3220    13     8         18   \n",
              "7        187        4  ...        512      1149   700    16     3          5   \n",
              "8        174        7  ...        386       836  1099    17     1         20   \n",
              "9         93        5  ...       1137      1224   513    19    10         12   \n",
              "\n",
              "   three_g  touch_screen  wifi  price_range  \n",
              "0        0             0     1            1  \n",
              "1        1             1     0            2  \n",
              "2        1             1     0            2  \n",
              "3        1             0     0            2  \n",
              "4        1             1     0            1  \n",
              "5        1             0     0            1  \n",
              "6        1             0     1            3  \n",
              "7        1             1     1            0  \n",
              "8        1             0     0            0  \n",
              "9        1             0     0            0  \n",
              "\n",
              "[10 rows x 21 columns]"
            ],
            "text/html": [
              "\n",
              "  <div id=\"df-0e8b7598-5caa-4323-b187-442560edb88c\" class=\"colab-df-container\">\n",
              "    <div>\n",
              "<style scoped>\n",
              "    .dataframe tbody tr th:only-of-type {\n",
              "        vertical-align: middle;\n",
              "    }\n",
              "\n",
              "    .dataframe tbody tr th {\n",
              "        vertical-align: top;\n",
              "    }\n",
              "\n",
              "    .dataframe thead th {\n",
              "        text-align: right;\n",
              "    }\n",
              "</style>\n",
              "<table border=\"1\" class=\"dataframe\">\n",
              "  <thead>\n",
              "    <tr style=\"text-align: right;\">\n",
              "      <th></th>\n",
              "      <th>battery_power</th>\n",
              "      <th>blue</th>\n",
              "      <th>clock_speed</th>\n",
              "      <th>dual_sim</th>\n",
              "      <th>fc</th>\n",
              "      <th>four_g</th>\n",
              "      <th>int_memory</th>\n",
              "      <th>m_dep</th>\n",
              "      <th>mobile_wt</th>\n",
              "      <th>n_cores</th>\n",
              "      <th>...</th>\n",
              "      <th>px_height</th>\n",
              "      <th>px_width</th>\n",
              "      <th>ram</th>\n",
              "      <th>sc_h</th>\n",
              "      <th>sc_w</th>\n",
              "      <th>talk_time</th>\n",
              "      <th>three_g</th>\n",
              "      <th>touch_screen</th>\n",
              "      <th>wifi</th>\n",
              "      <th>price_range</th>\n",
              "    </tr>\n",
              "  </thead>\n",
              "  <tbody>\n",
              "    <tr>\n",
              "      <th>0</th>\n",
              "      <td>842</td>\n",
              "      <td>0</td>\n",
              "      <td>2.2</td>\n",
              "      <td>0</td>\n",
              "      <td>1</td>\n",
              "      <td>0</td>\n",
              "      <td>7</td>\n",
              "      <td>0.6</td>\n",
              "      <td>188</td>\n",
              "      <td>2</td>\n",
              "      <td>...</td>\n",
              "      <td>20</td>\n",
              "      <td>756</td>\n",
              "      <td>2549</td>\n",
              "      <td>9</td>\n",
              "      <td>7</td>\n",
              "      <td>19</td>\n",
              "      <td>0</td>\n",
              "      <td>0</td>\n",
              "      <td>1</td>\n",
              "      <td>1</td>\n",
              "    </tr>\n",
              "    <tr>\n",
              "      <th>1</th>\n",
              "      <td>1021</td>\n",
              "      <td>1</td>\n",
              "      <td>0.5</td>\n",
              "      <td>1</td>\n",
              "      <td>0</td>\n",
              "      <td>1</td>\n",
              "      <td>53</td>\n",
              "      <td>0.7</td>\n",
              "      <td>136</td>\n",
              "      <td>3</td>\n",
              "      <td>...</td>\n",
              "      <td>905</td>\n",
              "      <td>1988</td>\n",
              "      <td>2631</td>\n",
              "      <td>17</td>\n",
              "      <td>3</td>\n",
              "      <td>7</td>\n",
              "      <td>1</td>\n",
              "      <td>1</td>\n",
              "      <td>0</td>\n",
              "      <td>2</td>\n",
              "    </tr>\n",
              "    <tr>\n",
              "      <th>2</th>\n",
              "      <td>563</td>\n",
              "      <td>1</td>\n",
              "      <td>0.5</td>\n",
              "      <td>1</td>\n",
              "      <td>2</td>\n",
              "      <td>1</td>\n",
              "      <td>41</td>\n",
              "      <td>0.9</td>\n",
              "      <td>145</td>\n",
              "      <td>5</td>\n",
              "      <td>...</td>\n",
              "      <td>1263</td>\n",
              "      <td>1716</td>\n",
              "      <td>2603</td>\n",
              "      <td>11</td>\n",
              "      <td>2</td>\n",
              "      <td>9</td>\n",
              "      <td>1</td>\n",
              "      <td>1</td>\n",
              "      <td>0</td>\n",
              "      <td>2</td>\n",
              "    </tr>\n",
              "    <tr>\n",
              "      <th>3</th>\n",
              "      <td>615</td>\n",
              "      <td>1</td>\n",
              "      <td>2.5</td>\n",
              "      <td>0</td>\n",
              "      <td>0</td>\n",
              "      <td>0</td>\n",
              "      <td>10</td>\n",
              "      <td>0.8</td>\n",
              "      <td>131</td>\n",
              "      <td>6</td>\n",
              "      <td>...</td>\n",
              "      <td>1216</td>\n",
              "      <td>1786</td>\n",
              "      <td>2769</td>\n",
              "      <td>16</td>\n",
              "      <td>8</td>\n",
              "      <td>11</td>\n",
              "      <td>1</td>\n",
              "      <td>0</td>\n",
              "      <td>0</td>\n",
              "      <td>2</td>\n",
              "    </tr>\n",
              "    <tr>\n",
              "      <th>4</th>\n",
              "      <td>1821</td>\n",
              "      <td>1</td>\n",
              "      <td>1.2</td>\n",
              "      <td>0</td>\n",
              "      <td>13</td>\n",
              "      <td>1</td>\n",
              "      <td>44</td>\n",
              "      <td>0.6</td>\n",
              "      <td>141</td>\n",
              "      <td>2</td>\n",
              "      <td>...</td>\n",
              "      <td>1208</td>\n",
              "      <td>1212</td>\n",
              "      <td>1411</td>\n",
              "      <td>8</td>\n",
              "      <td>2</td>\n",
              "      <td>15</td>\n",
              "      <td>1</td>\n",
              "      <td>1</td>\n",
              "      <td>0</td>\n",
              "      <td>1</td>\n",
              "    </tr>\n",
              "    <tr>\n",
              "      <th>5</th>\n",
              "      <td>1859</td>\n",
              "      <td>0</td>\n",
              "      <td>0.5</td>\n",
              "      <td>1</td>\n",
              "      <td>3</td>\n",
              "      <td>0</td>\n",
              "      <td>22</td>\n",
              "      <td>0.7</td>\n",
              "      <td>164</td>\n",
              "      <td>1</td>\n",
              "      <td>...</td>\n",
              "      <td>1004</td>\n",
              "      <td>1654</td>\n",
              "      <td>1067</td>\n",
              "      <td>17</td>\n",
              "      <td>1</td>\n",
              "      <td>10</td>\n",
              "      <td>1</td>\n",
              "      <td>0</td>\n",
              "      <td>0</td>\n",
              "      <td>1</td>\n",
              "    </tr>\n",
              "    <tr>\n",
              "      <th>6</th>\n",
              "      <td>1821</td>\n",
              "      <td>0</td>\n",
              "      <td>1.7</td>\n",
              "      <td>0</td>\n",
              "      <td>4</td>\n",
              "      <td>1</td>\n",
              "      <td>10</td>\n",
              "      <td>0.8</td>\n",
              "      <td>139</td>\n",
              "      <td>8</td>\n",
              "      <td>...</td>\n",
              "      <td>381</td>\n",
              "      <td>1018</td>\n",
              "      <td>3220</td>\n",
              "      <td>13</td>\n",
              "      <td>8</td>\n",
              "      <td>18</td>\n",
              "      <td>1</td>\n",
              "      <td>0</td>\n",
              "      <td>1</td>\n",
              "      <td>3</td>\n",
              "    </tr>\n",
              "    <tr>\n",
              "      <th>7</th>\n",
              "      <td>1954</td>\n",
              "      <td>0</td>\n",
              "      <td>0.5</td>\n",
              "      <td>1</td>\n",
              "      <td>0</td>\n",
              "      <td>0</td>\n",
              "      <td>24</td>\n",
              "      <td>0.8</td>\n",
              "      <td>187</td>\n",
              "      <td>4</td>\n",
              "      <td>...</td>\n",
              "      <td>512</td>\n",
              "      <td>1149</td>\n",
              "      <td>700</td>\n",
              "      <td>16</td>\n",
              "      <td>3</td>\n",
              "      <td>5</td>\n",
              "      <td>1</td>\n",
              "      <td>1</td>\n",
              "      <td>1</td>\n",
              "      <td>0</td>\n",
              "    </tr>\n",
              "    <tr>\n",
              "      <th>8</th>\n",
              "      <td>1445</td>\n",
              "      <td>1</td>\n",
              "      <td>0.5</td>\n",
              "      <td>0</td>\n",
              "      <td>0</td>\n",
              "      <td>0</td>\n",
              "      <td>53</td>\n",
              "      <td>0.7</td>\n",
              "      <td>174</td>\n",
              "      <td>7</td>\n",
              "      <td>...</td>\n",
              "      <td>386</td>\n",
              "      <td>836</td>\n",
              "      <td>1099</td>\n",
              "      <td>17</td>\n",
              "      <td>1</td>\n",
              "      <td>20</td>\n",
              "      <td>1</td>\n",
              "      <td>0</td>\n",
              "      <td>0</td>\n",
              "      <td>0</td>\n",
              "    </tr>\n",
              "    <tr>\n",
              "      <th>9</th>\n",
              "      <td>509</td>\n",
              "      <td>1</td>\n",
              "      <td>0.6</td>\n",
              "      <td>1</td>\n",
              "      <td>2</td>\n",
              "      <td>1</td>\n",
              "      <td>9</td>\n",
              "      <td>0.1</td>\n",
              "      <td>93</td>\n",
              "      <td>5</td>\n",
              "      <td>...</td>\n",
              "      <td>1137</td>\n",
              "      <td>1224</td>\n",
              "      <td>513</td>\n",
              "      <td>19</td>\n",
              "      <td>10</td>\n",
              "      <td>12</td>\n",
              "      <td>1</td>\n",
              "      <td>0</td>\n",
              "      <td>0</td>\n",
              "      <td>0</td>\n",
              "    </tr>\n",
              "  </tbody>\n",
              "</table>\n",
              "<p>10 rows × 21 columns</p>\n",
              "</div>\n",
              "    <div class=\"colab-df-buttons\">\n",
              "\n",
              "  <div class=\"colab-df-container\">\n",
              "    <button class=\"colab-df-convert\" onclick=\"convertToInteractive('df-0e8b7598-5caa-4323-b187-442560edb88c')\"\n",
              "            title=\"Convert this dataframe to an interactive table.\"\n",
              "            style=\"display:none;\">\n",
              "\n",
              "  <svg xmlns=\"http://www.w3.org/2000/svg\" height=\"24px\" viewBox=\"0 -960 960 960\">\n",
              "    <path d=\"M120-120v-720h720v720H120Zm60-500h600v-160H180v160Zm220 220h160v-160H400v160Zm0 220h160v-160H400v160ZM180-400h160v-160H180v160Zm440 0h160v-160H620v160ZM180-180h160v-160H180v160Zm440 0h160v-160H620v160Z\"/>\n",
              "  </svg>\n",
              "    </button>\n",
              "\n",
              "  <style>\n",
              "    .colab-df-container {\n",
              "      display:flex;\n",
              "      gap: 12px;\n",
              "    }\n",
              "\n",
              "    .colab-df-convert {\n",
              "      background-color: #E8F0FE;\n",
              "      border: none;\n",
              "      border-radius: 50%;\n",
              "      cursor: pointer;\n",
              "      display: none;\n",
              "      fill: #1967D2;\n",
              "      height: 32px;\n",
              "      padding: 0 0 0 0;\n",
              "      width: 32px;\n",
              "    }\n",
              "\n",
              "    .colab-df-convert:hover {\n",
              "      background-color: #E2EBFA;\n",
              "      box-shadow: 0px 1px 2px rgba(60, 64, 67, 0.3), 0px 1px 3px 1px rgba(60, 64, 67, 0.15);\n",
              "      fill: #174EA6;\n",
              "    }\n",
              "\n",
              "    .colab-df-buttons div {\n",
              "      margin-bottom: 4px;\n",
              "    }\n",
              "\n",
              "    [theme=dark] .colab-df-convert {\n",
              "      background-color: #3B4455;\n",
              "      fill: #D2E3FC;\n",
              "    }\n",
              "\n",
              "    [theme=dark] .colab-df-convert:hover {\n",
              "      background-color: #434B5C;\n",
              "      box-shadow: 0px 1px 3px 1px rgba(0, 0, 0, 0.15);\n",
              "      filter: drop-shadow(0px 1px 2px rgba(0, 0, 0, 0.3));\n",
              "      fill: #FFFFFF;\n",
              "    }\n",
              "  </style>\n",
              "\n",
              "    <script>\n",
              "      const buttonEl =\n",
              "        document.querySelector('#df-0e8b7598-5caa-4323-b187-442560edb88c button.colab-df-convert');\n",
              "      buttonEl.style.display =\n",
              "        google.colab.kernel.accessAllowed ? 'block' : 'none';\n",
              "\n",
              "      async function convertToInteractive(key) {\n",
              "        const element = document.querySelector('#df-0e8b7598-5caa-4323-b187-442560edb88c');\n",
              "        const dataTable =\n",
              "          await google.colab.kernel.invokeFunction('convertToInteractive',\n",
              "                                                    [key], {});\n",
              "        if (!dataTable) return;\n",
              "\n",
              "        const docLinkHtml = 'Like what you see? Visit the ' +\n",
              "          '<a target=\"_blank\" href=https://colab.research.google.com/notebooks/data_table.ipynb>data table notebook</a>'\n",
              "          + ' to learn more about interactive tables.';\n",
              "        element.innerHTML = '';\n",
              "        dataTable['output_type'] = 'display_data';\n",
              "        await google.colab.output.renderOutput(dataTable, element);\n",
              "        const docLink = document.createElement('div');\n",
              "        docLink.innerHTML = docLinkHtml;\n",
              "        element.appendChild(docLink);\n",
              "      }\n",
              "    </script>\n",
              "  </div>\n",
              "\n",
              "\n",
              "<div id=\"df-08362a37-f507-4167-b50c-aaeadcfea36d\">\n",
              "  <button class=\"colab-df-quickchart\" onclick=\"quickchart('df-08362a37-f507-4167-b50c-aaeadcfea36d')\"\n",
              "            title=\"Suggest charts\"\n",
              "            style=\"display:none;\">\n",
              "\n",
              "<svg xmlns=\"http://www.w3.org/2000/svg\" height=\"24px\"viewBox=\"0 0 24 24\"\n",
              "     width=\"24px\">\n",
              "    <g>\n",
              "        <path d=\"M19 3H5c-1.1 0-2 .9-2 2v14c0 1.1.9 2 2 2h14c1.1 0 2-.9 2-2V5c0-1.1-.9-2-2-2zM9 17H7v-7h2v7zm4 0h-2V7h2v10zm4 0h-2v-4h2v4z\"/>\n",
              "    </g>\n",
              "</svg>\n",
              "  </button>\n",
              "\n",
              "<style>\n",
              "  .colab-df-quickchart {\n",
              "      --bg-color: #E8F0FE;\n",
              "      --fill-color: #1967D2;\n",
              "      --hover-bg-color: #E2EBFA;\n",
              "      --hover-fill-color: #174EA6;\n",
              "      --disabled-fill-color: #AAA;\n",
              "      --disabled-bg-color: #DDD;\n",
              "  }\n",
              "\n",
              "  [theme=dark] .colab-df-quickchart {\n",
              "      --bg-color: #3B4455;\n",
              "      --fill-color: #D2E3FC;\n",
              "      --hover-bg-color: #434B5C;\n",
              "      --hover-fill-color: #FFFFFF;\n",
              "      --disabled-bg-color: #3B4455;\n",
              "      --disabled-fill-color: #666;\n",
              "  }\n",
              "\n",
              "  .colab-df-quickchart {\n",
              "    background-color: var(--bg-color);\n",
              "    border: none;\n",
              "    border-radius: 50%;\n",
              "    cursor: pointer;\n",
              "    display: none;\n",
              "    fill: var(--fill-color);\n",
              "    height: 32px;\n",
              "    padding: 0;\n",
              "    width: 32px;\n",
              "  }\n",
              "\n",
              "  .colab-df-quickchart:hover {\n",
              "    background-color: var(--hover-bg-color);\n",
              "    box-shadow: 0 1px 2px rgba(60, 64, 67, 0.3), 0 1px 3px 1px rgba(60, 64, 67, 0.15);\n",
              "    fill: var(--button-hover-fill-color);\n",
              "  }\n",
              "\n",
              "  .colab-df-quickchart-complete:disabled,\n",
              "  .colab-df-quickchart-complete:disabled:hover {\n",
              "    background-color: var(--disabled-bg-color);\n",
              "    fill: var(--disabled-fill-color);\n",
              "    box-shadow: none;\n",
              "  }\n",
              "\n",
              "  .colab-df-spinner {\n",
              "    border: 2px solid var(--fill-color);\n",
              "    border-color: transparent;\n",
              "    border-bottom-color: var(--fill-color);\n",
              "    animation:\n",
              "      spin 1s steps(1) infinite;\n",
              "  }\n",
              "\n",
              "  @keyframes spin {\n",
              "    0% {\n",
              "      border-color: transparent;\n",
              "      border-bottom-color: var(--fill-color);\n",
              "      border-left-color: var(--fill-color);\n",
              "    }\n",
              "    20% {\n",
              "      border-color: transparent;\n",
              "      border-left-color: var(--fill-color);\n",
              "      border-top-color: var(--fill-color);\n",
              "    }\n",
              "    30% {\n",
              "      border-color: transparent;\n",
              "      border-left-color: var(--fill-color);\n",
              "      border-top-color: var(--fill-color);\n",
              "      border-right-color: var(--fill-color);\n",
              "    }\n",
              "    40% {\n",
              "      border-color: transparent;\n",
              "      border-right-color: var(--fill-color);\n",
              "      border-top-color: var(--fill-color);\n",
              "    }\n",
              "    60% {\n",
              "      border-color: transparent;\n",
              "      border-right-color: var(--fill-color);\n",
              "    }\n",
              "    80% {\n",
              "      border-color: transparent;\n",
              "      border-right-color: var(--fill-color);\n",
              "      border-bottom-color: var(--fill-color);\n",
              "    }\n",
              "    90% {\n",
              "      border-color: transparent;\n",
              "      border-bottom-color: var(--fill-color);\n",
              "    }\n",
              "  }\n",
              "</style>\n",
              "\n",
              "  <script>\n",
              "    async function quickchart(key) {\n",
              "      const quickchartButtonEl =\n",
              "        document.querySelector('#' + key + ' button');\n",
              "      quickchartButtonEl.disabled = true;  // To prevent multiple clicks.\n",
              "      quickchartButtonEl.classList.add('colab-df-spinner');\n",
              "      try {\n",
              "        const charts = await google.colab.kernel.invokeFunction(\n",
              "            'suggestCharts', [key], {});\n",
              "      } catch (error) {\n",
              "        console.error('Error during call to suggestCharts:', error);\n",
              "      }\n",
              "      quickchartButtonEl.classList.remove('colab-df-spinner');\n",
              "      quickchartButtonEl.classList.add('colab-df-quickchart-complete');\n",
              "    }\n",
              "    (() => {\n",
              "      let quickchartButtonEl =\n",
              "        document.querySelector('#df-08362a37-f507-4167-b50c-aaeadcfea36d button');\n",
              "      quickchartButtonEl.style.display =\n",
              "        google.colab.kernel.accessAllowed ? 'block' : 'none';\n",
              "    })();\n",
              "  </script>\n",
              "</div>\n",
              "\n",
              "    </div>\n",
              "  </div>\n"
            ],
            "application/vnd.google.colaboratory.intrinsic+json": {
              "type": "dataframe",
              "variable_name": "df_train"
            }
          },
          "metadata": {},
          "execution_count": 6
        }
      ],
      "source": [
        "df_train.head(10)"
      ]
    },
    {
      "cell_type": "code",
      "execution_count": null,
      "metadata": {
        "colab": {
          "base_uri": "https://localhost:8080/"
        },
        "id": "cS05eV4lrBEx",
        "outputId": "bfe278c9-1d07-424d-d6ab-32281a389a84"
      },
      "outputs": [
        {
          "output_type": "stream",
          "name": "stdout",
          "text": [
            "\n",
            "Descriptive statistics of price_range:\n",
            "\n",
            "count    2000.000000\n",
            "mean        1.500000\n",
            "std         1.118314\n",
            "min         0.000000\n",
            "25%         0.750000\n",
            "50%         1.500000\n",
            "75%         2.250000\n",
            "max         3.000000\n",
            "Name: price_range, dtype: float64\n"
          ]
        }
      ],
      "source": [
        "# Describing descriptive statistics of price_range\n",
        "print(\"\\nDescriptive statistics of price_range:\\n\")\n",
        "print(df_train['price_range'].describe())"
      ]
    },
    {
      "cell_type": "code",
      "execution_count": null,
      "metadata": {
        "colab": {
          "base_uri": "https://localhost:8080/"
        },
        "id": "4EYRbQKYO6rl",
        "outputId": "7ea305f0-fc6b-47f1-969e-517738ba455a"
      },
      "outputs": [
        {
          "output_type": "execute_result",
          "data": {
            "text/plain": [
              "dtype('int64')"
            ]
          },
          "metadata": {},
          "execution_count": 8
        }
      ],
      "source": [
        "#Check dtype of battery_power\n",
        "df_train.battery_power.dtype"
      ]
    },
    {
      "cell_type": "code",
      "execution_count": null,
      "metadata": {
        "colab": {
          "base_uri": "https://localhost:8080/"
        },
        "id": "ibINo6kAO8wU",
        "outputId": "6bce8746-26c1-4924-9dde-6f76fbead030"
      },
      "outputs": [
        {
          "output_type": "execute_result",
          "data": {
            "text/plain": [
              "clock_speed    float64\n",
              "m_dep          float64\n",
              "dtype: object"
            ]
          },
          "metadata": {},
          "execution_count": 9
        }
      ],
      "source": [
        "#show all columns that have a class of float64\n",
        "df_train.dtypes[df_train.dtypes == 'float64']"
      ]
    },
    {
      "cell_type": "code",
      "execution_count": null,
      "metadata": {
        "colab": {
          "base_uri": "https://localhost:8080/",
          "height": 349
        },
        "id": "ONUfY_80O-X8",
        "outputId": "e0ee18e3-1ac2-413a-a3fe-2d95f822218e"
      },
      "outputs": [
        {
          "output_type": "execute_result",
          "data": {
            "text/plain": [
              "       battery_power       blue  clock_speed     dual_sim           fc  \\\n",
              "count    2000.000000  2000.0000  2000.000000  2000.000000  2000.000000   \n",
              "mean     1238.518500     0.4950     1.522250     0.509500     4.309500   \n",
              "std       439.418206     0.5001     0.816004     0.500035     4.341444   \n",
              "min       501.000000     0.0000     0.500000     0.000000     0.000000   \n",
              "25%       851.750000     0.0000     0.700000     0.000000     1.000000   \n",
              "50%      1226.000000     0.0000     1.500000     1.000000     3.000000   \n",
              "75%      1615.250000     1.0000     2.200000     1.000000     7.000000   \n",
              "max      1998.000000     1.0000     3.000000     1.000000    19.000000   \n",
              "\n",
              "            four_g   int_memory        m_dep    mobile_wt      n_cores  ...  \\\n",
              "count  2000.000000  2000.000000  2000.000000  2000.000000  2000.000000  ...   \n",
              "mean      0.521500    32.046500     0.501750   140.249000     4.520500  ...   \n",
              "std       0.499662    18.145715     0.288416    35.399655     2.287837  ...   \n",
              "min       0.000000     2.000000     0.100000    80.000000     1.000000  ...   \n",
              "25%       0.000000    16.000000     0.200000   109.000000     3.000000  ...   \n",
              "50%       1.000000    32.000000     0.500000   141.000000     4.000000  ...   \n",
              "75%       1.000000    48.000000     0.800000   170.000000     7.000000  ...   \n",
              "max       1.000000    64.000000     1.000000   200.000000     8.000000  ...   \n",
              "\n",
              "         px_height     px_width          ram         sc_h         sc_w  \\\n",
              "count  2000.000000  2000.000000  2000.000000  2000.000000  2000.000000   \n",
              "mean    645.108000  1251.515500  2124.213000    12.306500     5.767000   \n",
              "std     443.780811   432.199447  1084.732044     4.213245     4.356398   \n",
              "min       0.000000   500.000000   256.000000     5.000000     0.000000   \n",
              "25%     282.750000   874.750000  1207.500000     9.000000     2.000000   \n",
              "50%     564.000000  1247.000000  2146.500000    12.000000     5.000000   \n",
              "75%     947.250000  1633.000000  3064.500000    16.000000     9.000000   \n",
              "max    1960.000000  1998.000000  3998.000000    19.000000    18.000000   \n",
              "\n",
              "         talk_time      three_g  touch_screen         wifi  price_range  \n",
              "count  2000.000000  2000.000000   2000.000000  2000.000000  2000.000000  \n",
              "mean     11.011000     0.761500      0.503000     0.507000     1.500000  \n",
              "std       5.463955     0.426273      0.500116     0.500076     1.118314  \n",
              "min       2.000000     0.000000      0.000000     0.000000     0.000000  \n",
              "25%       6.000000     1.000000      0.000000     0.000000     0.750000  \n",
              "50%      11.000000     1.000000      1.000000     1.000000     1.500000  \n",
              "75%      16.000000     1.000000      1.000000     1.000000     2.250000  \n",
              "max      20.000000     1.000000      1.000000     1.000000     3.000000  \n",
              "\n",
              "[8 rows x 21 columns]"
            ],
            "text/html": [
              "\n",
              "  <div id=\"df-71bfa967-46a8-48f3-9449-d04dd482d3f2\" class=\"colab-df-container\">\n",
              "    <div>\n",
              "<style scoped>\n",
              "    .dataframe tbody tr th:only-of-type {\n",
              "        vertical-align: middle;\n",
              "    }\n",
              "\n",
              "    .dataframe tbody tr th {\n",
              "        vertical-align: top;\n",
              "    }\n",
              "\n",
              "    .dataframe thead th {\n",
              "        text-align: right;\n",
              "    }\n",
              "</style>\n",
              "<table border=\"1\" class=\"dataframe\">\n",
              "  <thead>\n",
              "    <tr style=\"text-align: right;\">\n",
              "      <th></th>\n",
              "      <th>battery_power</th>\n",
              "      <th>blue</th>\n",
              "      <th>clock_speed</th>\n",
              "      <th>dual_sim</th>\n",
              "      <th>fc</th>\n",
              "      <th>four_g</th>\n",
              "      <th>int_memory</th>\n",
              "      <th>m_dep</th>\n",
              "      <th>mobile_wt</th>\n",
              "      <th>n_cores</th>\n",
              "      <th>...</th>\n",
              "      <th>px_height</th>\n",
              "      <th>px_width</th>\n",
              "      <th>ram</th>\n",
              "      <th>sc_h</th>\n",
              "      <th>sc_w</th>\n",
              "      <th>talk_time</th>\n",
              "      <th>three_g</th>\n",
              "      <th>touch_screen</th>\n",
              "      <th>wifi</th>\n",
              "      <th>price_range</th>\n",
              "    </tr>\n",
              "  </thead>\n",
              "  <tbody>\n",
              "    <tr>\n",
              "      <th>count</th>\n",
              "      <td>2000.000000</td>\n",
              "      <td>2000.0000</td>\n",
              "      <td>2000.000000</td>\n",
              "      <td>2000.000000</td>\n",
              "      <td>2000.000000</td>\n",
              "      <td>2000.000000</td>\n",
              "      <td>2000.000000</td>\n",
              "      <td>2000.000000</td>\n",
              "      <td>2000.000000</td>\n",
              "      <td>2000.000000</td>\n",
              "      <td>...</td>\n",
              "      <td>2000.000000</td>\n",
              "      <td>2000.000000</td>\n",
              "      <td>2000.000000</td>\n",
              "      <td>2000.000000</td>\n",
              "      <td>2000.000000</td>\n",
              "      <td>2000.000000</td>\n",
              "      <td>2000.000000</td>\n",
              "      <td>2000.000000</td>\n",
              "      <td>2000.000000</td>\n",
              "      <td>2000.000000</td>\n",
              "    </tr>\n",
              "    <tr>\n",
              "      <th>mean</th>\n",
              "      <td>1238.518500</td>\n",
              "      <td>0.4950</td>\n",
              "      <td>1.522250</td>\n",
              "      <td>0.509500</td>\n",
              "      <td>4.309500</td>\n",
              "      <td>0.521500</td>\n",
              "      <td>32.046500</td>\n",
              "      <td>0.501750</td>\n",
              "      <td>140.249000</td>\n",
              "      <td>4.520500</td>\n",
              "      <td>...</td>\n",
              "      <td>645.108000</td>\n",
              "      <td>1251.515500</td>\n",
              "      <td>2124.213000</td>\n",
              "      <td>12.306500</td>\n",
              "      <td>5.767000</td>\n",
              "      <td>11.011000</td>\n",
              "      <td>0.761500</td>\n",
              "      <td>0.503000</td>\n",
              "      <td>0.507000</td>\n",
              "      <td>1.500000</td>\n",
              "    </tr>\n",
              "    <tr>\n",
              "      <th>std</th>\n",
              "      <td>439.418206</td>\n",
              "      <td>0.5001</td>\n",
              "      <td>0.816004</td>\n",
              "      <td>0.500035</td>\n",
              "      <td>4.341444</td>\n",
              "      <td>0.499662</td>\n",
              "      <td>18.145715</td>\n",
              "      <td>0.288416</td>\n",
              "      <td>35.399655</td>\n",
              "      <td>2.287837</td>\n",
              "      <td>...</td>\n",
              "      <td>443.780811</td>\n",
              "      <td>432.199447</td>\n",
              "      <td>1084.732044</td>\n",
              "      <td>4.213245</td>\n",
              "      <td>4.356398</td>\n",
              "      <td>5.463955</td>\n",
              "      <td>0.426273</td>\n",
              "      <td>0.500116</td>\n",
              "      <td>0.500076</td>\n",
              "      <td>1.118314</td>\n",
              "    </tr>\n",
              "    <tr>\n",
              "      <th>min</th>\n",
              "      <td>501.000000</td>\n",
              "      <td>0.0000</td>\n",
              "      <td>0.500000</td>\n",
              "      <td>0.000000</td>\n",
              "      <td>0.000000</td>\n",
              "      <td>0.000000</td>\n",
              "      <td>2.000000</td>\n",
              "      <td>0.100000</td>\n",
              "      <td>80.000000</td>\n",
              "      <td>1.000000</td>\n",
              "      <td>...</td>\n",
              "      <td>0.000000</td>\n",
              "      <td>500.000000</td>\n",
              "      <td>256.000000</td>\n",
              "      <td>5.000000</td>\n",
              "      <td>0.000000</td>\n",
              "      <td>2.000000</td>\n",
              "      <td>0.000000</td>\n",
              "      <td>0.000000</td>\n",
              "      <td>0.000000</td>\n",
              "      <td>0.000000</td>\n",
              "    </tr>\n",
              "    <tr>\n",
              "      <th>25%</th>\n",
              "      <td>851.750000</td>\n",
              "      <td>0.0000</td>\n",
              "      <td>0.700000</td>\n",
              "      <td>0.000000</td>\n",
              "      <td>1.000000</td>\n",
              "      <td>0.000000</td>\n",
              "      <td>16.000000</td>\n",
              "      <td>0.200000</td>\n",
              "      <td>109.000000</td>\n",
              "      <td>3.000000</td>\n",
              "      <td>...</td>\n",
              "      <td>282.750000</td>\n",
              "      <td>874.750000</td>\n",
              "      <td>1207.500000</td>\n",
              "      <td>9.000000</td>\n",
              "      <td>2.000000</td>\n",
              "      <td>6.000000</td>\n",
              "      <td>1.000000</td>\n",
              "      <td>0.000000</td>\n",
              "      <td>0.000000</td>\n",
              "      <td>0.750000</td>\n",
              "    </tr>\n",
              "    <tr>\n",
              "      <th>50%</th>\n",
              "      <td>1226.000000</td>\n",
              "      <td>0.0000</td>\n",
              "      <td>1.500000</td>\n",
              "      <td>1.000000</td>\n",
              "      <td>3.000000</td>\n",
              "      <td>1.000000</td>\n",
              "      <td>32.000000</td>\n",
              "      <td>0.500000</td>\n",
              "      <td>141.000000</td>\n",
              "      <td>4.000000</td>\n",
              "      <td>...</td>\n",
              "      <td>564.000000</td>\n",
              "      <td>1247.000000</td>\n",
              "      <td>2146.500000</td>\n",
              "      <td>12.000000</td>\n",
              "      <td>5.000000</td>\n",
              "      <td>11.000000</td>\n",
              "      <td>1.000000</td>\n",
              "      <td>1.000000</td>\n",
              "      <td>1.000000</td>\n",
              "      <td>1.500000</td>\n",
              "    </tr>\n",
              "    <tr>\n",
              "      <th>75%</th>\n",
              "      <td>1615.250000</td>\n",
              "      <td>1.0000</td>\n",
              "      <td>2.200000</td>\n",
              "      <td>1.000000</td>\n",
              "      <td>7.000000</td>\n",
              "      <td>1.000000</td>\n",
              "      <td>48.000000</td>\n",
              "      <td>0.800000</td>\n",
              "      <td>170.000000</td>\n",
              "      <td>7.000000</td>\n",
              "      <td>...</td>\n",
              "      <td>947.250000</td>\n",
              "      <td>1633.000000</td>\n",
              "      <td>3064.500000</td>\n",
              "      <td>16.000000</td>\n",
              "      <td>9.000000</td>\n",
              "      <td>16.000000</td>\n",
              "      <td>1.000000</td>\n",
              "      <td>1.000000</td>\n",
              "      <td>1.000000</td>\n",
              "      <td>2.250000</td>\n",
              "    </tr>\n",
              "    <tr>\n",
              "      <th>max</th>\n",
              "      <td>1998.000000</td>\n",
              "      <td>1.0000</td>\n",
              "      <td>3.000000</td>\n",
              "      <td>1.000000</td>\n",
              "      <td>19.000000</td>\n",
              "      <td>1.000000</td>\n",
              "      <td>64.000000</td>\n",
              "      <td>1.000000</td>\n",
              "      <td>200.000000</td>\n",
              "      <td>8.000000</td>\n",
              "      <td>...</td>\n",
              "      <td>1960.000000</td>\n",
              "      <td>1998.000000</td>\n",
              "      <td>3998.000000</td>\n",
              "      <td>19.000000</td>\n",
              "      <td>18.000000</td>\n",
              "      <td>20.000000</td>\n",
              "      <td>1.000000</td>\n",
              "      <td>1.000000</td>\n",
              "      <td>1.000000</td>\n",
              "      <td>3.000000</td>\n",
              "    </tr>\n",
              "  </tbody>\n",
              "</table>\n",
              "<p>8 rows × 21 columns</p>\n",
              "</div>\n",
              "    <div class=\"colab-df-buttons\">\n",
              "\n",
              "  <div class=\"colab-df-container\">\n",
              "    <button class=\"colab-df-convert\" onclick=\"convertToInteractive('df-71bfa967-46a8-48f3-9449-d04dd482d3f2')\"\n",
              "            title=\"Convert this dataframe to an interactive table.\"\n",
              "            style=\"display:none;\">\n",
              "\n",
              "  <svg xmlns=\"http://www.w3.org/2000/svg\" height=\"24px\" viewBox=\"0 -960 960 960\">\n",
              "    <path d=\"M120-120v-720h720v720H120Zm60-500h600v-160H180v160Zm220 220h160v-160H400v160Zm0 220h160v-160H400v160ZM180-400h160v-160H180v160Zm440 0h160v-160H620v160ZM180-180h160v-160H180v160Zm440 0h160v-160H620v160Z\"/>\n",
              "  </svg>\n",
              "    </button>\n",
              "\n",
              "  <style>\n",
              "    .colab-df-container {\n",
              "      display:flex;\n",
              "      gap: 12px;\n",
              "    }\n",
              "\n",
              "    .colab-df-convert {\n",
              "      background-color: #E8F0FE;\n",
              "      border: none;\n",
              "      border-radius: 50%;\n",
              "      cursor: pointer;\n",
              "      display: none;\n",
              "      fill: #1967D2;\n",
              "      height: 32px;\n",
              "      padding: 0 0 0 0;\n",
              "      width: 32px;\n",
              "    }\n",
              "\n",
              "    .colab-df-convert:hover {\n",
              "      background-color: #E2EBFA;\n",
              "      box-shadow: 0px 1px 2px rgba(60, 64, 67, 0.3), 0px 1px 3px 1px rgba(60, 64, 67, 0.15);\n",
              "      fill: #174EA6;\n",
              "    }\n",
              "\n",
              "    .colab-df-buttons div {\n",
              "      margin-bottom: 4px;\n",
              "    }\n",
              "\n",
              "    [theme=dark] .colab-df-convert {\n",
              "      background-color: #3B4455;\n",
              "      fill: #D2E3FC;\n",
              "    }\n",
              "\n",
              "    [theme=dark] .colab-df-convert:hover {\n",
              "      background-color: #434B5C;\n",
              "      box-shadow: 0px 1px 3px 1px rgba(0, 0, 0, 0.15);\n",
              "      filter: drop-shadow(0px 1px 2px rgba(0, 0, 0, 0.3));\n",
              "      fill: #FFFFFF;\n",
              "    }\n",
              "  </style>\n",
              "\n",
              "    <script>\n",
              "      const buttonEl =\n",
              "        document.querySelector('#df-71bfa967-46a8-48f3-9449-d04dd482d3f2 button.colab-df-convert');\n",
              "      buttonEl.style.display =\n",
              "        google.colab.kernel.accessAllowed ? 'block' : 'none';\n",
              "\n",
              "      async function convertToInteractive(key) {\n",
              "        const element = document.querySelector('#df-71bfa967-46a8-48f3-9449-d04dd482d3f2');\n",
              "        const dataTable =\n",
              "          await google.colab.kernel.invokeFunction('convertToInteractive',\n",
              "                                                    [key], {});\n",
              "        if (!dataTable) return;\n",
              "\n",
              "        const docLinkHtml = 'Like what you see? Visit the ' +\n",
              "          '<a target=\"_blank\" href=https://colab.research.google.com/notebooks/data_table.ipynb>data table notebook</a>'\n",
              "          + ' to learn more about interactive tables.';\n",
              "        element.innerHTML = '';\n",
              "        dataTable['output_type'] = 'display_data';\n",
              "        await google.colab.output.renderOutput(dataTable, element);\n",
              "        const docLink = document.createElement('div');\n",
              "        docLink.innerHTML = docLinkHtml;\n",
              "        element.appendChild(docLink);\n",
              "      }\n",
              "    </script>\n",
              "  </div>\n",
              "\n",
              "\n",
              "<div id=\"df-63337250-53a8-4829-a493-710e9c3ad1b8\">\n",
              "  <button class=\"colab-df-quickchart\" onclick=\"quickchart('df-63337250-53a8-4829-a493-710e9c3ad1b8')\"\n",
              "            title=\"Suggest charts\"\n",
              "            style=\"display:none;\">\n",
              "\n",
              "<svg xmlns=\"http://www.w3.org/2000/svg\" height=\"24px\"viewBox=\"0 0 24 24\"\n",
              "     width=\"24px\">\n",
              "    <g>\n",
              "        <path d=\"M19 3H5c-1.1 0-2 .9-2 2v14c0 1.1.9 2 2 2h14c1.1 0 2-.9 2-2V5c0-1.1-.9-2-2-2zM9 17H7v-7h2v7zm4 0h-2V7h2v10zm4 0h-2v-4h2v4z\"/>\n",
              "    </g>\n",
              "</svg>\n",
              "  </button>\n",
              "\n",
              "<style>\n",
              "  .colab-df-quickchart {\n",
              "      --bg-color: #E8F0FE;\n",
              "      --fill-color: #1967D2;\n",
              "      --hover-bg-color: #E2EBFA;\n",
              "      --hover-fill-color: #174EA6;\n",
              "      --disabled-fill-color: #AAA;\n",
              "      --disabled-bg-color: #DDD;\n",
              "  }\n",
              "\n",
              "  [theme=dark] .colab-df-quickchart {\n",
              "      --bg-color: #3B4455;\n",
              "      --fill-color: #D2E3FC;\n",
              "      --hover-bg-color: #434B5C;\n",
              "      --hover-fill-color: #FFFFFF;\n",
              "      --disabled-bg-color: #3B4455;\n",
              "      --disabled-fill-color: #666;\n",
              "  }\n",
              "\n",
              "  .colab-df-quickchart {\n",
              "    background-color: var(--bg-color);\n",
              "    border: none;\n",
              "    border-radius: 50%;\n",
              "    cursor: pointer;\n",
              "    display: none;\n",
              "    fill: var(--fill-color);\n",
              "    height: 32px;\n",
              "    padding: 0;\n",
              "    width: 32px;\n",
              "  }\n",
              "\n",
              "  .colab-df-quickchart:hover {\n",
              "    background-color: var(--hover-bg-color);\n",
              "    box-shadow: 0 1px 2px rgba(60, 64, 67, 0.3), 0 1px 3px 1px rgba(60, 64, 67, 0.15);\n",
              "    fill: var(--button-hover-fill-color);\n",
              "  }\n",
              "\n",
              "  .colab-df-quickchart-complete:disabled,\n",
              "  .colab-df-quickchart-complete:disabled:hover {\n",
              "    background-color: var(--disabled-bg-color);\n",
              "    fill: var(--disabled-fill-color);\n",
              "    box-shadow: none;\n",
              "  }\n",
              "\n",
              "  .colab-df-spinner {\n",
              "    border: 2px solid var(--fill-color);\n",
              "    border-color: transparent;\n",
              "    border-bottom-color: var(--fill-color);\n",
              "    animation:\n",
              "      spin 1s steps(1) infinite;\n",
              "  }\n",
              "\n",
              "  @keyframes spin {\n",
              "    0% {\n",
              "      border-color: transparent;\n",
              "      border-bottom-color: var(--fill-color);\n",
              "      border-left-color: var(--fill-color);\n",
              "    }\n",
              "    20% {\n",
              "      border-color: transparent;\n",
              "      border-left-color: var(--fill-color);\n",
              "      border-top-color: var(--fill-color);\n",
              "    }\n",
              "    30% {\n",
              "      border-color: transparent;\n",
              "      border-left-color: var(--fill-color);\n",
              "      border-top-color: var(--fill-color);\n",
              "      border-right-color: var(--fill-color);\n",
              "    }\n",
              "    40% {\n",
              "      border-color: transparent;\n",
              "      border-right-color: var(--fill-color);\n",
              "      border-top-color: var(--fill-color);\n",
              "    }\n",
              "    60% {\n",
              "      border-color: transparent;\n",
              "      border-right-color: var(--fill-color);\n",
              "    }\n",
              "    80% {\n",
              "      border-color: transparent;\n",
              "      border-right-color: var(--fill-color);\n",
              "      border-bottom-color: var(--fill-color);\n",
              "    }\n",
              "    90% {\n",
              "      border-color: transparent;\n",
              "      border-bottom-color: var(--fill-color);\n",
              "    }\n",
              "  }\n",
              "</style>\n",
              "\n",
              "  <script>\n",
              "    async function quickchart(key) {\n",
              "      const quickchartButtonEl =\n",
              "        document.querySelector('#' + key + ' button');\n",
              "      quickchartButtonEl.disabled = true;  // To prevent multiple clicks.\n",
              "      quickchartButtonEl.classList.add('colab-df-spinner');\n",
              "      try {\n",
              "        const charts = await google.colab.kernel.invokeFunction(\n",
              "            'suggestCharts', [key], {});\n",
              "      } catch (error) {\n",
              "        console.error('Error during call to suggestCharts:', error);\n",
              "      }\n",
              "      quickchartButtonEl.classList.remove('colab-df-spinner');\n",
              "      quickchartButtonEl.classList.add('colab-df-quickchart-complete');\n",
              "    }\n",
              "    (() => {\n",
              "      let quickchartButtonEl =\n",
              "        document.querySelector('#df-63337250-53a8-4829-a493-710e9c3ad1b8 button');\n",
              "      quickchartButtonEl.style.display =\n",
              "        google.colab.kernel.accessAllowed ? 'block' : 'none';\n",
              "    })();\n",
              "  </script>\n",
              "</div>\n",
              "\n",
              "    </div>\n",
              "  </div>\n"
            ],
            "application/vnd.google.colaboratory.intrinsic+json": {
              "type": "dataframe"
            }
          },
          "metadata": {},
          "execution_count": 10
        }
      ],
      "source": [
        "#Check for outliers in the dataset\n",
        "df_train.describe()"
      ]
    },
    {
      "cell_type": "code",
      "execution_count": null,
      "metadata": {
        "colab": {
          "base_uri": "https://localhost:8080/"
        },
        "id": "Kz97029sJajL",
        "outputId": "979fd790-8183-43f1-d317-602c4f07bdbc"
      },
      "outputs": [
        {
          "output_type": "execute_result",
          "data": {
            "text/plain": [
              "1872    6\n",
              "618     6\n",
              "1589    6\n",
              "1715    5\n",
              "1807    5\n",
              "       ..\n",
              "660     1\n",
              "1452    1\n",
              "1005    1\n",
              "1372    1\n",
              "858     1\n",
              "Name: battery_power, Length: 1094, dtype: int64"
            ]
          },
          "metadata": {},
          "execution_count": 11
        }
      ],
      "source": [
        "df_train[\"battery_power\"].value_counts()"
      ]
    },
    {
      "cell_type": "code",
      "execution_count": null,
      "metadata": {
        "colab": {
          "base_uri": "https://localhost:8080/",
          "height": 698
        },
        "id": "luXpBdV8-hPA",
        "outputId": "806915ec-8d62-4c0a-d1b4-5e67a2a16869"
      },
      "outputs": [
        {
          "output_type": "execute_result",
          "data": {
            "text/plain": [
              "<Axes: >"
            ]
          },
          "metadata": {},
          "execution_count": 12
        },
        {
          "output_type": "display_data",
          "data": {
            "text/plain": [
              "<Figure size 2000x1000 with 2 Axes>"
            ],
            "image/png": "[encoded data removed]"
          },
          "metadata": {}
        }
      ],
      "source": [
        "\n",
        "colmns= [\"battery_power\",\"clock_speed\",\"fc\",\"int_memory\", \"m_dep\",\"mobile_wt\",\"n_cores\",\"pc\", \"px_height\",\"px_width\",\"ram\",\n",
        "           \"sc_h\",\"sc_w\",\"talk_time\",\"price_range\"]\n",
        "plt.figure(figsize=(20,10))\n",
        "matrix = df_train[colmns].corr()\n",
        "#plotting correlation matrix\n",
        "sns.heatmap(matrix, cmap=\"Greens\", annot=True)"
      ]
    },
    {
      "cell_type": "markdown",
      "metadata": {
        "id": "9OfzLvVnrBWO"
      },
      "source": [
        "## 2- Data Visualization"
      ]
    },
    {
      "cell_type": "markdown",
      "source": [
        "### Distribution of Price Range in the Dataset"
      ],
      "metadata": {
        "id": "9ETggATZA4jm"
      }
    },
    {
      "cell_type": "code",
      "execution_count": null,
      "metadata": {
        "colab": {
          "base_uri": "https://localhost:8080/",
          "height": 445
        },
        "id": "XxviqFWarJEr",
        "outputId": "a4e24d72-bd28-4589-9aad-67b80a6a0b05"
      },
      "outputs": [
        {
          "output_type": "execute_result",
          "data": {
            "text/plain": [
              "Text(0.5, 1.0, 'Distribution of price ranges in the dataset')"
            ]
          },
          "metadata": {},
          "execution_count": 13
        },
        {
          "output_type": "display_data",
          "data": {
            "text/plain": [
              "<Figure size 640x480 with 1 Axes>"
            ],
            "image/png": "[encoded data removed]"
          },
          "metadata": {}
        }
      ],
      "source": [
        "price_count= df_train[\"price_range\"].value_counts()\n",
        "\n",
        "labels=[\"low\",\"medium\",\"high\",\"very high\"]\n",
        "colors = ['#4F6272', '#B7C3F3', '#DD7596', '#8EB897']\n",
        "\n",
        "plt.pie(price_count,labels=labels,autopct='%1.1f%%', colors=colors)\n",
        "plt.title(\"Distribution of price ranges in the dataset\")"
      ]
    },
    {
      "cell_type": "markdown",
      "source": [
        "### histogram of Front Camera And Primary Camera"
      ],
      "metadata": {
        "id": "f7fkL4T4A_p7"
      }
    },
    {
      "cell_type": "code",
      "execution_count": null,
      "metadata": {
        "colab": {
          "base_uri": "https://localhost:8080/",
          "height": 559
        },
        "id": "pUZKQm71rJKj",
        "outputId": "7224d51c-2ff0-4b04-b0c0-c9918a6002b7"
      },
      "outputs": [
        {
          "output_type": "execute_result",
          "data": {
            "text/plain": [
              "Text(0.5, 0, 'MegaPixels')"
            ]
          },
          "metadata": {},
          "execution_count": 14
        },
        {
          "output_type": "display_data",
          "data": {
            "text/plain": [
              "<Figure size 800x600 with 1 Axes>"
            ],
            "image/png": "[encoded data removed]"
          },
          "metadata": {}
        }
      ],
      "source": [
        "plt.figure(figsize=(8,6))\n",
        "df_train['fc'].hist(alpha=0.5,color='blue',label='Front camera')\n",
        "df_train['pc'].hist(alpha=0.5,color='Green',label='Primary camera')\n",
        "plt.legend()\n",
        "plt.xlabel('MegaPixels')"
      ]
    },
    {
      "cell_type": "markdown",
      "source": [
        "### Variables that contribute to a mobile phone's price classification"
      ],
      "metadata": {
        "id": "a1PQ-q9Qo31k"
      }
    },
    {
      "cell_type": "code",
      "source": [
        "\n",
        "#how ram, battery power, and px height all contribute to a mobile phone's price classification\n",
        "fig = px.scatter_3d(df_train.head(1000), x='ram', y='battery_power', z='px_width', color='price_range')\n",
        "fig.show()"
      ],
      "metadata": {
        "colab": {
          "base_uri": "https://localhost:8080/",
          "height": 542
        },
        "id": "e83fuVS5ne00",
        "outputId": "a5da7c03-695a-4a5d-99a4-e73b223de0a7"
      },
      "execution_count": null,
      "outputs": [
        {
          "output_type": "display_data",
          "data": {
            "text/html": [
              "<html>\n",
              "<head><meta charset=\"utf-8\" /></head>\n",
              "<body>\n",
              "    <div>            <script src=\"https://cdnjs.cloudflare.com/ajax/libs/mathjax/2.7.5/MathJax.js?config=TeX-AMS-MML_SVG\"></script><script type=\"text/javascript\">if (window.MathJax && window.MathJax.Hub && window.MathJax.Hub.Config) {window.MathJax.Hub.Config({SVG: {font: \"STIX-Web\"}});}</script>                <script type=\"text/javascript\">window.PlotlyConfig = {MathJaxConfig: 'local'};</script>\n",
              "        <script charset=\"utf-8\" src=\"https://cdn.plot.ly/plotly-2.24.1.min.js\"></script>                <div id=\"7ef82b14-7246-4cc4-9686-2efc0bec2670\" class=\"plotly-graph-div\" style=\"height:525px; width:100%;\"></div>            <script type=\"text/javascript\">                                    window.PLOTLYENV=window.PLOTLYENV || {};                                    if (document.getElementById(\"7ef82b14-7246-4cc4-9686-2efc0bec2670\")) {                    Plotly.newPlot(                        \"7ef82b14-7246-4cc4-9686-2efc0bec2670\",                        [{\"hovertemplate\":\"ram=%{x}\\u003cbr\\u003ebattery_power=%{y}\\u003cbr\\u003epx_width=%{z}\\u003cbr\\u003eprice_range=%{marker.color}\\u003cextra\\u003e\\u003c\\u002fextra\\u003e\",\"legendgroup\":\"\",\"marker\":{\"color\":[1,2,2,2,1,1,3,0,0,0,3,3,1,2,0,0,3,3,1,1,3,3,1,0,1,2,3,3,2,0,3,0,1,3,0,1,1,3,2,2,2,3,1,1,0,1,3,1,0,3,2,2,3,1,2,2,0,3,1,2,1,0,0,2,2,3,3,3,0,3,3,2,0,3,0,1,0,0,3,1,3,2,3,1,1,1,0,3,2,2,3,2,0,0,1,3,0,2,0,1,3,1,1,0,0,1,3,3,3,3,1,1,0,2,3,3,2,1,0,1,2,3,3,3,2,3,2,1,3,0,3,1,2,1,2,2,1,3,0,0,2,0,3,2,0,3,1,3,2,2,1,3,1,2,0,1,0,0,3,1,2,2,0,0,2,3,1,2,3,1,3,1,2,2,3,2,0,3,2,1,0,0,2,3,3,0,2,3,1,3,1,2,3,3,2,2,2,3,1,1,0,1,0,2,2,2,2,1,3,3,2,2,0,2,0,3,0,1,1,3,0,0,3,2,3,3,3,2,2,3,3,3,0,1,2,0,1,3,1,0,2,2,3,2,3,3,0,1,1,0,2,2,1,0,0,2,0,1,0,3,1,1,0,0,3,1,3,1,2,1,0,0,3,1,2,2,3,1,0,0,3,3,1,1,2,1,3,3,1,1,3,3,2,3,0,1,3,1,0,1,3,0,0,3,0,1,1,2,0,2,3,2,3,0,2,3,1,0,0,1,0,3,3,0,0,0,2,1,2,1,1,1,1,1,2,2,3,0,2,2,2,1,2,3,0,1,2,2,2,2,1,3,0,2,2,1,2,0,0,3,1,0,3,2,0,0,2,3,2,1,3,1,3,0,3,2,0,1,0,3,1,2,2,2,2,3,3,1,2,3,3,1,3,3,1,3,3,0,1,3,2,3,3,2,2,3,3,0,2,2,0,3,1,2,3,2,1,1,1,0,1,2,2,0,2,2,0,3,1,1,3,1,3,1,0,0,3,1,3,0,0,1,3,1,0,0,2,2,2,1,1,1,3,0,3,2,1,3,1,0,2,2,1,0,0,3,3,0,0,1,3,3,1,0,2,2,3,0,3,3,0,3,0,3,1,0,2,2,1,2,0,3,2,0,1,2,3,1,2,3,0,3,1,0,0,1,2,2,2,2,3,3,0,1,1,2,1,3,3,3,3,1,3,3,3,3,2,3,2,2,0,0,3,1,2,2,0,2,2,1,0,3,1,1,1,1,1,2,2,1,3,1,0,1,0,0,2,2,2,0,3,1,2,1,2,0,0,1,3,3,3,3,3,3,0,2,2,0,0,3,3,3,0,0,3,0,0,1,2,0,2,3,1,3,2,0,2,2,0,0,1,3,0,1,1,2,2,0,2,2,0,1,3,0,2,2,3,1,3,2,2,1,2,2,1,1,0,1,0,1,0,3,1,1,3,1,3,2,1,1,0,2,0,2,0,2,0,1,3,1,2,2,0,1,0,3,2,1,3,2,0,0,1,2,0,0,0,2,3,1,2,1,0,0,0,2,3,2,3,0,3,2,1,2,1,0,2,0,0,1,3,0,3,1,1,1,3,2,2,0,0,3,0,3,3,2,3,3,3,0,2,1,2,0,3,1,0,1,3,1,3,3,1,0,1,1,2,1,3,3,0,2,0,3,2,0,0,2,1,2,3,3,2,1,2,2,3,1,2,3,3,1,1,2,1,2,0,2,0,3,0,0,0,3,3,0,2,2,3,1,3,0,1,2,0,0,0,3,2,0,2,2,1,0,2,0,3,3,2,3,0,3,2,3,2,2,1,0,3,3,1,0,0,2,1,2,3,3,3,3,0,0,0,1,0,2,0,1,2,0,0,3,3,1,3,3,2,3,3,1,1,3,0,3,3,3,3,2,2,3,2,1,3,2,3,0,0,3,0,0,3,2,1,0,2,1,2,2,1,2,2,0,2,0,2,2,2,3,0,0,3,3,1,0,1,0,0,3,3,3,0,2,2,1,2,2,2,0,3,1,1,3,3,1,2,3,2,2,0,3,3,0,2,2,0,3,3,0,1,1,0,1,2,1,3,1,0,0,3,2,0,1,0,1,2,1,1,2,2,0,3,2,3,1,2,3,3,2,2,2,3,0,0,1,0,3,0,0,2,1,1,1,3,0,1,3,3,3,1,3,2,3,1,1,2,3,0,0,1,1,1,0,3,2,0,1,3,0,3,1,0,3,3,1,0,0,0,3,3,1,1,1,1,0,0,3,2,0,3,3],\"coloraxis\":\"coloraxis\",\"symbol\":\"circle\"},\"mode\":\"markers\",\"name\":\"\",\"scene\":\"scene\",\"showlegend\":false,\"x\":[2549,2631,2603,2769,1411,1067,3220,700,1099,513,3946,3826,1482,2680,373,568,3554,3752,1835,2337,2819,3283,1433,1037,2583,2782,3763,3286,2373,478,3532,508,2227,3845,1262,1326,2113,3429,3169,2150,2484,3339,1878,1629,504,1152,3587,2296,1270,3238,2059,2053,3112,1440,2908,2552,905,3963,2056,2910,1457,431,470,2148,2955,3366,3068,3834,1050,3993,3378,2192,392,3709,590,1814,907,1449,3448,1837,3464,2593,3484,2009,2048,837,854,3210,2746,2334,2822,1971,1410,349,1418,3616,880,1601,1412,1692,2600,1308,2413,1047,1204,1799,2676,2597,3029,2343,2016,2213,790,3182,3472,2871,3187,1945,488,1214,2598,3242,3534,3426,2488,3255,2863,1496,3801,666,3799,1366,2962,2399,2338,2700,2235,3825,284,1427,1324,398,3685,2390,278,3556,2196,3799,2268,2965,2341,3557,1354,2147,505,1394,374,506,3702,1078,2945,2981,490,536,2317,3704,2126,2050,2462,1260,3770,1886,3323,2060,3926,2177,728,2478,2842,1617,1472,764,2337,3965,3693,797,1687,2940,1545,3834,2505,2243,3600,3971,2844,2227,1665,3355,1866,1287,1046,1441,690,2504,2677,2243,2984,1362,3629,3559,2571,2107,1022,2844,711,3117,978,1869,1179,3844,593,588,3836,2669,2958,3031,3388,2377,2458,2766,3054,3791,625,2227,3256,707,1457,3755,1733,720,3560,2311,3846,1717,3704,3800,278,1767,1846,829,2986,2394,2169,1181,575,2977,532,1702,1074,3352,1027,2039,461,527,3271,606,2513,1675,2698,1129,468,1210,3086,1595,2332,2589,3760,1851,417,294,3576,3945,927,2044,2334,1477,3161,3660,1604,2211,3822,3922,1203,2822,447,1652,3608,1228,666,1499,3321,1206,952,3927,311,955,1109,2969,725,1655,3490,1774,3615,714,2768,3739,610,715,663,1725,834,3865,3059,651,796,785,3252,1322,2832,1615,2125,990,1595,1213,2500,2801,3451,1201,3139,1938,3185,2111,2369,3625,1051,1036,2938,2855,2727,2973,2581,2690,916,2563,3359,941,2280,827,473,3865,1274,364,3699,2927,1470,1050,2616,2915,2686,1243,3264,2261,2993,706,2542,2523,336,2457,418,3917,1246,2971,2324,3121,3801,3333,3475,2360,2895,3652,3097,2101,3918,3869,732,3684,3969,1414,1892,3131,2532,3215,3323,1529,2403,3419,3648,1974,2806,2239,582,3890,1141,2511,3838,2734,2330,2244,1851,808,1587,2492,2122,1122,3709,3021,624,3937,1797,1458,3348,1834,2775,1277,457,438,3210,985,3701,1052,1175,1070,3411,1175,301,489,1733,2756,2612,1724,2190,1900,3915,1043,3817,2362,1107,2982,2042,1343,2610,2335,1614,1138,604,3652,3955,258,1066,1731,3860,3630,1965,1459,2323,3291,3272,918,3488,3961,590,3701,463,3644,1713,429,2765,2084,1125,2048,1223,3672,3100,343,1970,2728,3635,2180,2488,3864,1155,3566,864,869,591,1333,2208,2610,2819,1955,3416,3803,574,2129,1948,2978,1619,3716,3454,3777,2712,1434,3968,3383,3278,3970,2674,2776,2336,2430,891,728,3886,1711,2856,2447,814,2951,3653,1891,701,3139,2811,1701,1853,2445,2287,2003,3595,1726,3952,850,1446,1300,719,988,2606,2912,2339,1028,3173,1667,1897,1214,3269,445,1073,665,3129,3501,3461,3206,3717,3917,861,2885,2777,1017,980,2775,3309,3607,1257,759,3720,475,1122,1336,1185,705,3169,3483,1183,3373,2801,565,3153,3421,316,448,2366,3881,462,1480,1087,2711,2144,1165,2998,2249,752,1409,3072,1305,3597,3132,3856,1524,3673,3293,3035,584,2675,2382,1391,2346,606,1324,1076,643,783,3809,2104,1762,3137,1756,3663,2437,1432,1620,1655,2832,961,2608,514,2304,933,1896,3655,1973,3278,2183,824,2598,1254,3622,1704,1624,3809,2574,950,273,446,1510,1122,707,751,3393,3771,1851,2735,2253,452,1419,969,3441,3786,2710,3533,1735,3587,2298,2027,2406,2419,995,2078,1145,626,1509,3371,297,3508,2385,1301,2167,3914,2312,2297,411,665,3226,740,3878,3406,2440,3959,3703,3714,337,3176,1205,2473,1229,2896,2039,520,1378,3254,1803,2501,3762,1796,990,2630,1380,3487,1201,3015,3204,433,1906,898,2799,2020,770,305,2953,1671,2574,3772,2870,2577,2246,2405,3377,3619,1184,2965,3713,3798,1026,1086,2236,1303,3048,616,3764,419,2858,504,392,820,3387,3447,1403,2295,1973,3755,2073,3872,302,1519,2549,404,595,1663,2764,2614,1094,2826,2496,2103,966,2172,905,3916,3902,2487,3914,363,3233,2532,3836,3076,1513,1724,542,3481,3991,1790,509,282,3006,1913,1333,3746,3941,3970,3925,424,1284,277,1713,485,3002,418,1652,2893,1406,629,3724,3835,1354,2376,3438,2655,3361,3535,2150,2587,2736,676,2941,3336,3796,3654,2934,2889,3315,1993,2509,3534,2246,3165,286,776,3213,716,424,3486,3237,1944,643,2317,1436,3190,2338,1334,3657,2080,1609,3078,590,2552,3355,1968,3358,1539,942,3669,3612,2351,604,1285,515,654,2540,3869,3412,509,2547,2735,1369,2942,2812,3497,619,3483,1475,1950,3592,3573,2020,1329,3568,1947,1998,725,3302,3884,1185,1656,2870,911,3892,3897,656,606,1653,860,2197,3458,2066,3676,1518,1018,1360,3449,2524,703,1251,582,1732,1252,2146,1927,3328,2462,1172,3598,2437,3271,1511,2981,3119,3647,3148,2829,2373,3998,316,999,1808,589,3317,670,584,2173,1561,2073,1401,3764,1275,1464,2885,3458,3019,1083,3538,2493,3726,1531,601,2991,3912,309,323,1489,1322,1846,417,3269,3731,667,1241,3941,1018,3142,1444,934,3863,3506,1944,348,550,971,3984,2973,2019,1587,1870,1352,570,546,3624,2944,1209,2752,3868],\"y\":[842,1021,563,615,1821,1859,1821,1954,1445,509,769,1520,1815,803,1866,775,838,595,1131,682,772,1709,1949,1602,503,961,519,956,1453,851,1579,1568,1319,1310,644,725,589,1725,790,560,1347,1646,1253,1656,1195,1514,1723,1054,578,596,1547,1760,1654,1457,1073,1936,823,987,1757,1063,1484,799,1156,1720,702,616,1358,1866,1242,1166,1448,1407,605,1038,797,819,1114,1234,1199,1103,1589,999,1510,1008,1127,1412,1496,1083,668,1309,1724,1977,885,879,1322,1137,1355,1665,657,593,1883,1732,543,1939,553,832,1661,1657,1135,1775,783,617,867,1310,1804,1900,909,1084,1308,1778,1701,772,825,1379,1166,1659,826,1564,1957,1571,1414,1790,645,668,1652,1213,1272,866,536,523,1753,1218,1537,786,1678,1814,1101,1461,1216,506,843,742,1692,1485,1547,1692,637,1224,1356,1840,1481,961,1296,1193,1441,517,748,1126,1572,1569,1270,1854,625,1577,534,946,685,1949,947,801,703,1165,1082,959,1502,1380,1266,1934,1905,1831,596,1562,1490,1523,640,1526,1989,1308,609,1905,1703,1445,1087,671,1472,765,1642,1265,664,1277,1395,1539,1049,1827,903,1987,1154,1336,1886,1551,850,660,1225,1452,1686,1634,1708,1151,1578,1689,1488,1313,1715,1442,528,1523,1133,1718,1330,1799,633,724,822,1918,1891,1373,862,1273,957,1617,893,1210,708,835,1450,973,601,507,564,1559,754,728,1431,767,1722,1992,1876,1054,1283,1281,1066,730,1053,1611,793,1220,1662,1281,538,823,1733,1429,1839,659,1953,1172,612,1563,1191,615,1893,1563,1995,1517,832,1162,1595,1329,928,1656,1937,977,768,1464,1177,1348,1956,1751,1530,1997,1414,1707,894,645,1163,1126,1648,1170,508,1097,728,1980,1504,1379,1698,920,1144,1995,1430,972,662,1867,1730,1723,1882,803,580,668,1391,1560,821,811,1989,1034,618,654,576,667,869,635,609,1557,1604,1182,848,1610,1828,880,1394,1960,809,899,1976,879,916,763,508,825,1864,1725,1108,1011,1703,1067,1334,775,1899,930,1058,1187,1874,1482,1809,864,625,1880,1138,560,1117,1712,1836,1036,1860,1375,1945,1896,788,880,1323,1868,1266,1042,1479,1476,1552,1454,1007,652,1504,1726,1029,1582,1478,1178,707,755,912,651,1483,914,1456,1178,1503,1681,715,1876,1190,1755,1197,1048,1887,1772,1421,1464,728,954,685,1472,853,1469,1310,1654,902,1448,1631,1608,1991,1349,1589,1844,712,972,1406,1289,932,1747,1172,1128,664,513,1742,1512,1986,965,1067,1583,1653,1433,765,1845,752,1948,1077,932,1968,1122,1588,601,1615,1589,1417,1697,1330,1476,1579,1277,1089,1663,1949,1138,685,1889,857,1902,1225,1066,1554,1337,1926,869,1278,1773,1661,1438,1661,1846,1260,512,581,1872,687,1062,1678,1417,1074,1832,1039,1059,1606,1928,1875,1128,1748,1413,825,1589,535,1780,1671,1821,1076,532,777,1217,1656,1185,577,737,704,525,504,793,569,1590,707,767,1350,1117,641,1002,1408,1900,726,1544,1454,1230,1552,1519,723,1191,1168,1229,1758,1290,574,1271,1170,1269,1288,1366,1572,1627,1701,1900,1974,1197,587,934,1195,1853,1164,1512,1232,1813,946,739,704,1663,1966,1219,612,1658,1263,1395,621,652,1175,561,1137,1835,1170,1595,1719,1770,1312,1878,1871,922,1975,1212,1430,1958,1836,557,539,880,1369,1109,843,598,972,1944,1225,644,1919,501,1620,1227,1359,1914,1645,1063,946,1231,1397,701,570,1993,955,924,600,518,1063,920,1715,1841,543,1762,1112,709,1315,1762,1462,571,666,1994,1583,1778,1926,966,568,1897,1695,1623,914,1721,890,600,1677,723,638,852,1979,710,1034,600,1027,1260,1793,675,658,1694,804,1713,706,1362,1527,768,1314,705,1403,1486,781,986,1310,560,1348,1567,1940,1979,561,1717,535,1413,1358,1519,1254,1591,977,1640,663,1744,1624,1108,1188,817,863,1397,1108,1068,1702,808,1156,1271,696,1981,614,1590,1945,1135,1049,1807,984,720,1536,771,503,675,1936,1303,1004,1972,1822,1159,1782,894,1884,1648,798,802,1276,1331,1620,1996,1092,1018,545,554,1264,1030,1432,558,829,1741,1849,733,1872,1853,1149,891,1911,550,576,1760,969,1160,827,1786,774,819,1042,1368,1592,1067,1892,915,774,1848,1501,1614,911,1520,1647,1347,967,1442,1204,1320,1800,1567,1439,1422,1591,880,1929,1642,1511,1312,1852,972,691,807,1113,721,1188,1512,805,918,1320,1236,1387,1883,839,1593,1722,1954,1788,1628,1965,833,571,1808,1860,1368,1161,1224,902,787,854,1184,1973,510,966,1438,1986,1907,1489,1843,825,1286,840,757,814,1195,767,1068,994,1550,1878,623,1829,525,1065,1425,1296,642,1664,1498,981,1236,1673,712,569,603,1332,1413,1064,1444,1366,906,1554,1187,1156,1918,841,730,878,1059,1578,1829,1132,1652,912,1181,1497,1790,1742,1549,1372,1112,1005,783,1698,899,1062,989,1983,1800,1254,868,1205,1284,626,1763,694,1265,816,904,979,1531,934,1624,874,1027,1966,1048,1496,959,1349,1689,1558,582,1485,1991,553,1231,805,764,894,1589,1456,743,1061,1428,674,832,1625,907,1631,1584,1382,633,1444,852,922,1745,862,1754,1008,1569,1596,1807,1660,1861,648,1379,1910,1807,1923,1345,904,1239,1330,516,672,892,1778,1130,1359,1866,1597,1046,1035,1175,1261,1068,1713,1688,1413,559,1483,860,1090,686,818,1456,774,1068,1373,1777],\"z\":[756,1988,1716,1786,1212,1654,1018,1149,836,1224,874,1005,748,1440,563,1864,1850,810,878,1064,1854,1385,822,788,1245,1434,645,1075,1311,1263,1739,654,1152,1919,881,1249,815,1307,730,1613,967,1932,714,1456,1652,1810,1791,774,1433,1854,1832,1383,629,1287,804,1036,1449,820,713,683,969,975,547,1353,1570,1618,1858,1781,1225,603,1724,1217,1026,638,1413,1242,1071,778,1552,1486,1206,1616,1752,1122,1049,1894,741,1118,1203,1402,1924,1242,802,1105,1990,1179,891,1684,961,1317,1739,881,984,520,902,1504,1634,1796,1846,1869,1471,874,1974,513,1244,1661,973,771,989,1954,1338,1712,863,1376,1203,902,786,1965,1732,1398,829,792,580,1056,1264,1248,669,1686,1539,1042,1926,616,1131,1697,536,786,1269,1298,1967,1025,800,1359,1996,1013,590,1925,1989,826,1983,1545,1533,621,1272,1729,1071,974,1554,1611,1937,1942,845,627,842,1737,1199,1740,648,1136,1220,879,1065,831,1191,1631,588,500,1698,1299,898,1381,984,1533,1464,539,1179,751,1497,1215,1948,1542,1235,1345,589,1182,1052,1429,873,836,1478,1460,705,1666,1077,1020,1235,1516,1499,583,1958,1995,642,1178,1404,1040,1453,1677,517,1560,1226,1200,1647,1308,1615,687,637,1606,1543,980,1441,1383,1009,1754,860,1543,1108,673,1758,886,1485,1038,946,1462,654,1604,1882,1816,765,1398,1980,1559,1928,1529,952,1517,1741,1596,1564,1222,692,1617,1571,1247,1767,714,1935,1933,1509,954,662,888,527,820,1493,1929,764,1092,1891,1699,683,1664,763,572,1963,1489,1294,997,655,1458,1243,519,1767,566,515,1168,882,1942,776,564,1975,1212,1118,1388,1462,1130,754,1726,1876,709,557,1914,775,1910,1923,1370,994,1078,724,1104,1182,1795,1224,1442,1023,1361,652,935,1345,1292,1256,1364,1786,1429,682,1199,1688,1898,1438,1463,1584,1059,1253,1442,939,986,1029,1280,898,1381,1565,1299,1726,1331,1922,1038,992,1186,1920,1866,981,1195,1706,749,1711,681,1974,1510,814,1025,1247,1814,1233,642,721,1670,550,699,1138,1903,817,1126,1139,926,1506,726,1753,794,1161,1350,619,660,1468,1705,1476,1666,1026,1033,1529,559,973,1223,956,1797,882,596,574,990,1053,858,758,1495,1104,1352,1304,1205,562,585,1441,1075,1629,1975,1798,545,1657,1341,817,1058,1203,1744,740,1133,889,1719,1285,1850,1905,1158,1325,772,1743,882,1208,1050,1366,899,1224,1131,1884,1370,1497,867,681,884,1358,998,1989,862,1785,799,793,695,728,1940,1304,1078,1259,790,1594,548,1256,1911,1649,1264,1262,1972,1484,1090,1259,1439,592,1777,870,1106,948,1393,982,1586,1579,644,1157,539,750,1472,1337,1663,861,773,1313,1849,1613,1259,1151,1807,1763,1029,952,654,1827,1916,1924,1580,1942,1582,1234,517,1917,1759,939,1463,848,1803,915,1354,1143,632,899,1642,1450,1463,1013,1587,1665,1815,739,963,1508,1000,544,1627,759,1416,1088,1596,760,857,1100,676,658,1239,1901,1813,1578,1878,1864,1109,1171,1949,1722,1920,1809,964,1237,1082,828,1241,545,1710,1793,1463,1100,1951,1704,1897,809,1306,1771,1536,1509,1545,1987,1022,1337,522,1883,1787,910,781,1501,1176,1285,583,684,1838,904,1552,1854,559,1682,1383,655,1715,906,637,1230,1315,599,1302,727,1787,1096,1173,816,1970,1101,1654,1191,1089,1033,1781,901,1701,1308,1232,630,1184,1991,1256,1917,510,1511,1813,747,1947,935,1421,1652,672,1031,527,739,1596,575,1364,1478,1282,1353,1435,1651,516,1000,1754,1703,1935,1898,1832,721,1048,1873,1465,1477,1748,1383,1159,1630,857,1293,1162,1747,736,1418,757,1750,549,818,974,938,1505,1116,991,577,1374,1251,1747,1674,800,1016,1327,501,1621,858,1532,1294,810,811,1318,1655,1702,1013,1883,1862,1301,1605,718,699,1742,1558,766,1799,1658,1666,1998,1491,1891,1262,650,907,1234,519,1595,895,1589,1564,1384,1611,1733,1634,922,1291,874,1089,1604,1162,1648,910,723,999,1300,819,1238,643,1633,735,1226,1339,1445,1424,883,1452,806,849,1812,947,1605,1916,1895,1123,1409,1484,1005,1675,1724,1958,1930,1518,1704,589,859,821,1671,1865,822,1018,829,522,1009,1564,1448,896,605,1056,1330,670,1909,1185,1008,1642,1668,1482,1229,823,1326,932,926,1641,660,1051,1889,1982,893,1163,589,962,697,1312,1862,1469,952,704,671,1583,809,1151,791,1391,1336,1638,690,1073,643,1660,1395,783,1208,799,1145,1169,563,1360,1423,1152,1577,1181,1228,1523,867,774,1513,812,580,783,662,1081,697,1406,1001,1995,1500,530,832,1026,672,1267,670,928,1897,1382,1011,1929,1076,688,1403,734,1234,1159,1968,1165,1481,1569,1554,1876,1793,1367,1125,1913,1203,828,1155,618,1545,670,563,1293,1084,1723,831,1933,1980,1469,1514,937,1119,1556,1263,1819,1638,1435,1394,1197,1108,1956,1026,614,516,1334,806,1230,687,558,507,1670,765,1190,1744,1248,714,1973,1670,506,736,1019,674,1409,1420,774,1377,1517,1663,1538,511,541,940,1666,1659,1330,983,772,1366,1219,507,1735,1291,719,1915,917,730,1808,1908,1977,1452,1972,930,1190,1968,1165,1877,1997,671,1284,974,1759,1465,760,661,1304,698,1143,1782,1445,1261,1902,1782,1667,1040,1960,1394,1591,1910,890,864,1994,823,1552,1463,1910,1392,510,1427,1731,875,1348,616],\"type\":\"scatter3d\"}],                        {\"template\":{\"data\":{\"histogram2dcontour\":[{\"type\":\"histogram2dcontour\",\"colorbar\":{\"outlinewidth\":0,\"ticks\":\"\"},\"colorscale\":[[0.0,\"#0d0887\"],[0.1111111111111111,\"#46039f\"],[0.2222222222222222,\"#7201a8\"],[0.3333333333333333,\"#9c179e\"],[0.4444444444444444,\"#bd3786\"],[0.5555555555555556,\"#d8576b\"],[0.6666666666666666,\"#ed7953\"],[0.7777777777777778,\"#fb9f3a\"],[0.8888888888888888,\"#fdca26\"],[1.0,\"#f0f921\"]]}],\"choropleth\":[{\"type\":\"choropleth\",\"colorbar\":{\"outlinewidth\":0,\"ticks\":\"\"}}],\"histogram2d\":[{\"type\":\"histogram2d\",\"colorbar\":{\"outlinewidth\":0,\"ticks\":\"\"},\"colorscale\":[[0.0,\"#0d0887\"],[0.1111111111111111,\"#46039f\"],[0.2222222222222222,\"#7201a8\"],[0.3333333333333333,\"#9c179e\"],[0.4444444444444444,\"#bd3786\"],[0.5555555555555556,\"#d8576b\"],[0.6666666666666666,\"#ed7953\"],[0.7777777777777778,\"#fb9f3a\"],[0.8888888888888888,\"#fdca26\"],[1.0,\"#f0f921\"]]}],\"heatmap\":[{\"type\":\"heatmap\",\"colorbar\":{\"outlinewidth\":0,\"ticks\":\"\"},\"colorscale\":[[0.0,\"#0d0887\"],[0.1111111111111111,\"#46039f\"],[0.2222222222222222,\"#7201a8\"],[0.3333333333333333,\"#9c179e\"],[0.4444444444444444,\"#bd3786\"],[0.5555555555555556,\"#d8576b\"],[0.6666666666666666,\"#ed7953\"],[0.7777777777777778,\"#fb9f3a\"],[0.8888888888888888,\"#fdca26\"],[1.0,\"#f0f921\"]]}],\"heatmapgl\":[{\"type\":\"heatmapgl\",\"colorbar\":{\"outlinewidth\":0,\"ticks\":\"\"},\"colorscale\":[[0.0,\"#0d0887\"],[0.1111111111111111,\"#46039f\"],[0.2222222222222222,\"#7201a8\"],[0.3333333333333333,\"#9c179e\"],[0.4444444444444444,\"#bd3786\"],[0.5555555555555556,\"#d8576b\"],[0.6666666666666666,\"#ed7953\"],[0.7777777777777778,\"#fb9f3a\"],[0.8888888888888888,\"#fdca26\"],[1.0,\"#f0f921\"]]}],\"contourcarpet\":[{\"type\":\"contourcarpet\",\"colorbar\":{\"outlinewidth\":0,\"ticks\":\"\"}}],\"contour\":[{\"type\":\"contour\",\"colorbar\":{\"outlinewidth\":0,\"ticks\":\"\"},\"colorscale\":[[0.0,\"#0d0887\"],[0.1111111111111111,\"#46039f\"],[0.2222222222222222,\"#7201a8\"],[0.3333333333333333,\"#9c179e\"],[0.4444444444444444,\"#bd3786\"],[0.5555555555555556,\"#d8576b\"],[0.6666666666666666,\"#ed7953\"],[0.7777777777777778,\"#fb9f3a\"],[0.8888888888888888,\"#fdca26\"],[1.0,\"#f0f921\"]]}],\"surface\":[{\"type\":\"surface\",\"colorbar\":{\"outlinewidth\":0,\"ticks\":\"\"},\"colorscale\":[[0.0,\"#0d0887\"],[0.1111111111111111,\"#46039f\"],[0.2222222222222222,\"#7201a8\"],[0.3333333333333333,\"#9c179e\"],[0.4444444444444444,\"#bd3786\"],[0.5555555555555556,\"#d8576b\"],[0.6666666666666666,\"#ed7953\"],[0.7777777777777778,\"#fb9f3a\"],[0.8888888888888888,\"#fdca26\"],[1.0,\"#f0f921\"]]}],\"mesh3d\":[{\"type\":\"mesh3d\",\"colorbar\":{\"outlinewidth\":0,\"ticks\":\"\"}}],\"scatter\":[{\"fillpattern\":{\"fillmode\":\"overlay\",\"size\":10,\"solidity\":0.2},\"type\":\"scatter\"}],\"parcoords\":[{\"type\":\"parcoords\",\"line\":{\"colorbar\":{\"outlinewidth\":0,\"ticks\":\"\"}}}],\"scatterpolargl\":[{\"type\":\"scatterpolargl\",\"marker\":{\"colorbar\":{\"outlinewidth\":0,\"ticks\":\"\"}}}],\"bar\":[{\"error_x\":{\"color\":\"#2a3f5f\"},\"error_y\":{\"color\":\"#2a3f5f\"},\"marker\":{\"line\":{\"color\":\"#E5ECF6\",\"width\":0.5},\"pattern\":{\"fillmode\":\"overlay\",\"size\":10,\"solidity\":0.2}},\"type\":\"bar\"}],\"scattergeo\":[{\"type\":\"scattergeo\",\"marker\":{\"colorbar\":{\"outlinewidth\":0,\"ticks\":\"\"}}}],\"scatterpolar\":[{\"type\":\"scatterpolar\",\"marker\":{\"colorbar\":{\"outlinewidth\":0,\"ticks\":\"\"}}}],\"histogram\":[{\"marker\":{\"pattern\":{\"fillmode\":\"overlay\",\"size\":10,\"solidity\":0.2}},\"type\":\"histogram\"}],\"scattergl\":[{\"type\":\"scattergl\",\"marker\":{\"colorbar\":{\"outlinewidth\":0,\"ticks\":\"\"}}}],\"scatter3d\":[{\"type\":\"scatter3d\",\"line\":{\"colorbar\":{\"outlinewidth\":0,\"ticks\":\"\"}},\"marker\":{\"colorbar\":{\"outlinewidth\":0,\"ticks\":\"\"}}}],\"scattermapbox\":[{\"type\":\"scattermapbox\",\"marker\":{\"colorbar\":{\"outlinewidth\":0,\"ticks\":\"\"}}}],\"scatterternary\":[{\"type\":\"scatterternary\",\"marker\":{\"colorbar\":{\"outlinewidth\":0,\"ticks\":\"\"}}}],\"scattercarpet\":[{\"type\":\"scattercarpet\",\"marker\":{\"colorbar\":{\"outlinewidth\":0,\"ticks\":\"\"}}}],\"carpet\":[{\"aaxis\":{\"endlinecolor\":\"#2a3f5f\",\"gridcolor\":\"white\",\"linecolor\":\"white\",\"minorgridcolor\":\"white\",\"startlinecolor\":\"#2a3f5f\"},\"baxis\":{\"endlinecolor\":\"#2a3f5f\",\"gridcolor\":\"white\",\"linecolor\":\"white\",\"minorgridcolor\":\"white\",\"startlinecolor\":\"#2a3f5f\"},\"type\":\"carpet\"}],\"table\":[{\"cells\":{\"fill\":{\"color\":\"#EBF0F8\"},\"line\":{\"color\":\"white\"}},\"header\":{\"fill\":{\"color\":\"#C8D4E3\"},\"line\":{\"color\":\"white\"}},\"type\":\"table\"}],\"barpolar\":[{\"marker\":{\"line\":{\"color\":\"#E5ECF6\",\"width\":0.5},\"pattern\":{\"fillmode\":\"overlay\",\"size\":10,\"solidity\":0.2}},\"type\":\"barpolar\"}],\"pie\":[{\"automargin\":true,\"type\":\"pie\"}]},\"layout\":{\"autotypenumbers\":\"strict\",\"colorway\":[\"#636efa\",\"#EF553B\",\"#00cc96\",\"#ab63fa\",\"#FFA15A\",\"#19d3f3\",\"#FF6692\",\"#B6E880\",\"#FF97FF\",\"#FECB52\"],\"font\":{\"color\":\"#2a3f5f\"},\"hovermode\":\"closest\",\"hoverlabel\":{\"align\":\"left\"},\"paper_bgcolor\":\"white\",\"plot_bgcolor\":\"#E5ECF6\",\"polar\":{\"bgcolor\":\"#E5ECF6\",\"angularaxis\":{\"gridcolor\":\"white\",\"linecolor\":\"white\",\"ticks\":\"\"},\"radialaxis\":{\"gridcolor\":\"white\",\"linecolor\":\"white\",\"ticks\":\"\"}},\"ternary\":{\"bgcolor\":\"#E5ECF6\",\"aaxis\":{\"gridcolor\":\"white\",\"linecolor\":\"white\",\"ticks\":\"\"},\"baxis\":{\"gridcolor\":\"white\",\"linecolor\":\"white\",\"ticks\":\"\"},\"caxis\":{\"gridcolor\":\"white\",\"linecolor\":\"white\",\"ticks\":\"\"}},\"coloraxis\":{\"colorbar\":{\"outlinewidth\":0,\"ticks\":\"\"}},\"colorscale\":{\"sequential\":[[0.0,\"#0d0887\"],[0.1111111111111111,\"#46039f\"],[0.2222222222222222,\"#7201a8\"],[0.3333333333333333,\"#9c179e\"],[0.4444444444444444,\"#bd3786\"],[0.5555555555555556,\"#d8576b\"],[0.6666666666666666,\"#ed7953\"],[0.7777777777777778,\"#fb9f3a\"],[0.8888888888888888,\"#fdca26\"],[1.0,\"#f0f921\"]],\"sequentialminus\":[[0.0,\"#0d0887\"],[0.1111111111111111,\"#46039f\"],[0.2222222222222222,\"#7201a8\"],[0.3333333333333333,\"#9c179e\"],[0.4444444444444444,\"#bd3786\"],[0.5555555555555556,\"#d8576b\"],[0.6666666666666666,\"#ed7953\"],[0.7777777777777778,\"#fb9f3a\"],[0.8888888888888888,\"#fdca26\"],[1.0,\"#f0f921\"]],\"diverging\":[[0,\"#8e0152\"],[0.1,\"#c51b7d\"],[0.2,\"#de77ae\"],[0.3,\"#f1b6da\"],[0.4,\"#fde0ef\"],[0.5,\"#f7f7f7\"],[0.6,\"#e6f5d0\"],[0.7,\"#b8e186\"],[0.8,\"#7fbc41\"],[0.9,\"#4d9221\"],[1,\"#276419\"]]},\"xaxis\":{\"gridcolor\":\"white\",\"linecolor\":\"white\",\"ticks\":\"\",\"title\":{\"standoff\":15},\"zerolinecolor\":\"white\",\"automargin\":true,\"zerolinewidth\":2},\"yaxis\":{\"gridcolor\":\"white\",\"linecolor\":\"white\",\"ticks\":\"\",\"title\":{\"standoff\":15},\"zerolinecolor\":\"white\",\"automargin\":true,\"zerolinewidth\":2},\"scene\":{\"xaxis\":{\"backgroundcolor\":\"#E5ECF6\",\"gridcolor\":\"white\",\"linecolor\":\"white\",\"showbackground\":true,\"ticks\":\"\",\"zerolinecolor\":\"white\",\"gridwidth\":2},\"yaxis\":{\"backgroundcolor\":\"#E5ECF6\",\"gridcolor\":\"white\",\"linecolor\":\"white\",\"showbackground\":true,\"ticks\":\"\",\"zerolinecolor\":\"white\",\"gridwidth\":2},\"zaxis\":{\"backgroundcolor\":\"#E5ECF6\",\"gridcolor\":\"white\",\"linecolor\":\"white\",\"showbackground\":true,\"ticks\":\"\",\"zerolinecolor\":\"white\",\"gridwidth\":2}},\"shapedefaults\":{\"line\":{\"color\":\"#2a3f5f\"}},\"annotationdefaults\":{\"arrowcolor\":\"#2a3f5f\",\"arrowhead\":0,\"arrowwidth\":1},\"geo\":{\"bgcolor\":\"white\",\"landcolor\":\"#E5ECF6\",\"subunitcolor\":\"white\",\"showland\":true,\"showlakes\":true,\"lakecolor\":\"white\"},\"title\":{\"x\":0.05},\"mapbox\":{\"style\":\"light\"}}},\"scene\":{\"domain\":{\"x\":[0.0,1.0],\"y\":[0.0,1.0]},\"xaxis\":{\"title\":{\"text\":\"ram\"}},\"yaxis\":{\"title\":{\"text\":\"battery_power\"}},\"zaxis\":{\"title\":{\"text\":\"px_width\"}}},\"coloraxis\":{\"colorbar\":{\"title\":{\"text\":\"price_range\"}},\"colorscale\":[[0.0,\"#0d0887\"],[0.1111111111111111,\"#46039f\"],[0.2222222222222222,\"#7201a8\"],[0.3333333333333333,\"#9c179e\"],[0.4444444444444444,\"#bd3786\"],[0.5555555555555556,\"#d8576b\"],[0.6666666666666666,\"#ed7953\"],[0.7777777777777778,\"#fb9f3a\"],[0.8888888888888888,\"#fdca26\"],[1.0,\"#f0f921\"]]},\"legend\":{\"tracegroupgap\":0},\"margin\":{\"t\":60}},                        {\"responsive\": true}                    ).then(function(){\n",
              "                            \n",
              "var gd = document.getElementById('7ef82b14-7246-4cc4-9686-2efc0bec2670');\n",
              "var x = new MutationObserver(function (mutations, observer) {{\n",
              "        var display = window.getComputedStyle(gd).display;\n",
              "        if (!display || display === 'none') {{\n",
              "            console.log([gd, 'removed!']);\n",
              "            Plotly.purge(gd);\n",
              "            observer.disconnect();\n",
              "        }}\n",
              "}});\n",
              "\n",
              "// Listen for the removal of the full notebook cells\n",
              "var notebookContainer = gd.closest('#notebook-container');\n",
              "if (notebookContainer) {{\n",
              "    x.observe(notebookContainer, {childList: true});\n",
              "}}\n",
              "\n",
              "// Listen for the clearing of the current output cell\n",
              "var outputEl = gd.closest('.output');\n",
              "if (outputEl) {{\n",
              "    x.observe(outputEl, {childList: true});\n",
              "}}\n",
              "\n",
              "                        })                };                            </script>        </div>\n",
              "</body>\n",
              "</html>"
            ]
          },
          "metadata": {}
        }
      ]
    },
    {
      "cell_type": "markdown",
      "metadata": {
        "id": "rfi2a0E3rJmF"
      },
      "source": [
        "## 3- Data Processing"
      ]
    },
    {
      "cell_type": "code",
      "source": [
        "print(df_train.dtypes)"
      ],
      "metadata": {
        "colab": {
          "base_uri": "https://localhost:8080/"
        },
        "id": "0SHxSqh5tvRo",
        "outputId": "891032b4-13ba-4dcb-d20e-092e616d307a"
      },
      "execution_count": null,
      "outputs": [
        {
          "output_type": "stream",
          "name": "stdout",
          "text": [
            "battery_power      int64\n",
            "blue               int64\n",
            "clock_speed      float64\n",
            "dual_sim           int64\n",
            "fc                 int64\n",
            "four_g             int64\n",
            "int_memory         int64\n",
            "m_dep            float64\n",
            "mobile_wt          int64\n",
            "n_cores            int64\n",
            "pc                 int64\n",
            "px_height          int64\n",
            "px_width           int64\n",
            "ram                int64\n",
            "sc_h               int64\n",
            "sc_w               int64\n",
            "talk_time          int64\n",
            "three_g            int64\n",
            "touch_screen       int64\n",
            "wifi               int64\n",
            "price_range        int64\n",
            "dtype: object\n"
          ]
        }
      ]
    },
    {
      "cell_type": "markdown",
      "source": [
        "### Normalization"
      ],
      "metadata": {
        "id": "6KcqQ56LAYyt"
      }
    },
    {
      "cell_type": "code",
      "source": [
        "cols_to_normalize = ['battery_power', 'clock_speed', 'fc', 'int_memory',\n",
        "                     'm_dep', 'mobile_wt', 'n_cores','pc','px_height','px_width','ram','sc_h','sc_w','talk_time']\n",
        "\n",
        "#  Instantiate the StandardScaler\n",
        "scaler = StandardScaler()\n",
        "\n",
        "# Fit and transform the numerical features\n",
        "scaled_data = scaler.fit(df_train[cols_to_normalize])\n",
        "df_train[cols_to_normalize] = scaler.transform(df_train[cols_to_normalize])\n",
        "\n",
        "# Print the scaled DataFrame\n",
        "df_train.head()"
      ],
      "metadata": {
        "colab": {
          "base_uri": "https://localhost:8080/",
          "height": 255
        },
        "id": "CyuFX728w4Le",
        "outputId": "82707b7d-0180-4883-c636-2b57a1282a1a"
      },
      "execution_count": null,
      "outputs": [
        {
          "output_type": "execute_result",
          "data": {
            "text/plain": [
              "   battery_power  blue  clock_speed  dual_sim        fc  four_g  int_memory  \\\n",
              "0      -0.902597     0     0.830779         0 -0.762495       0   -1.380644   \n",
              "1      -0.495139     1    -1.253064         1 -0.992890       1    1.155024   \n",
              "2      -1.537686     1    -1.253064         1 -0.532099       1    0.493546   \n",
              "3      -1.419319     1     1.198517         0 -0.992890       0   -1.215274   \n",
              "4       1.325906     1    -0.395011         0  2.002254       1    0.658915   \n",
              "\n",
              "      m_dep  mobile_wt   n_cores  ...  px_height  px_width       ram  \\\n",
              "0  0.340740   1.349249 -1.101971  ...  -1.408949 -1.146784  0.391703   \n",
              "1  0.687548  -0.120059 -0.664768  ...   0.585778  1.704465  0.467317   \n",
              "2  1.381165   0.134244  0.209639  ...   1.392684  1.074968  0.441498   \n",
              "3  1.034357  -0.261339  0.646842  ...   1.286750  1.236971  0.594569   \n",
              "4  0.340740   0.021220 -1.101971  ...   1.268718 -0.091452 -0.657666   \n",
              "\n",
              "       sc_h      sc_w  talk_time  three_g  touch_screen  wifi  price_range  \n",
              "0 -0.784983  0.283103   1.462493        0             0     1            1  \n",
              "1  1.114266 -0.635317  -0.734267        1             1     0            2  \n",
              "2 -0.310171 -0.864922  -0.368140        1             1     0            2  \n",
              "3  0.876859  0.512708  -0.002014        1             0     0            2  \n",
              "4 -1.022389 -0.864922   0.730240        1             1     0            1  \n",
              "\n",
              "[5 rows x 21 columns]"
            ],
            "text/html": [
              "\n",
              "  <div id=\"df-1f79729d-1041-4a79-b487-bcaa21304e49\" class=\"colab-df-container\">\n",
              "    <div>\n",
              "<style scoped>\n",
              "    .dataframe tbody tr th:only-of-type {\n",
              "        vertical-align: middle;\n",
              "    }\n",
              "\n",
              "    .dataframe tbody tr th {\n",
              "        vertical-align: top;\n",
              "    }\n",
              "\n",
              "    .dataframe thead th {\n",
              "        text-align: right;\n",
              "    }\n",
              "</style>\n",
              "<table border=\"1\" class=\"dataframe\">\n",
              "  <thead>\n",
              "    <tr style=\"text-align: right;\">\n",
              "      <th></th>\n",
              "      <th>battery_power</th>\n",
              "      <th>blue</th>\n",
              "      <th>clock_speed</th>\n",
              "      <th>dual_sim</th>\n",
              "      <th>fc</th>\n",
              "      <th>four_g</th>\n",
              "      <th>int_memory</th>\n",
              "      <th>m_dep</th>\n",
              "      <th>mobile_wt</th>\n",
              "      <th>n_cores</th>\n",
              "      <th>...</th>\n",
              "      <th>px_height</th>\n",
              "      <th>px_width</th>\n",
              "      <th>ram</th>\n",
              "      <th>sc_h</th>\n",
              "      <th>sc_w</th>\n",
              "      <th>talk_time</th>\n",
              "      <th>three_g</th>\n",
              "      <th>touch_screen</th>\n",
              "      <th>wifi</th>\n",
              "      <th>price_range</th>\n",
              "    </tr>\n",
              "  </thead>\n",
              "  <tbody>\n",
              "    <tr>\n",
              "      <th>0</th>\n",
              "      <td>-0.902597</td>\n",
              "      <td>0</td>\n",
              "      <td>0.830779</td>\n",
              "      <td>0</td>\n",
              "      <td>-0.762495</td>\n",
              "      <td>0</td>\n",
              "      <td>-1.380644</td>\n",
              "      <td>0.340740</td>\n",
              "      <td>1.349249</td>\n",
              "      <td>-1.101971</td>\n",
              "      <td>...</td>\n",
              "      <td>-1.408949</td>\n",
              "      <td>-1.146784</td>\n",
              "      <td>0.391703</td>\n",
              "      <td>-0.784983</td>\n",
              "      <td>0.283103</td>\n",
              "      <td>1.462493</td>\n",
              "      <td>0</td>\n",
              "      <td>0</td>\n",
              "      <td>1</td>\n",
              "      <td>1</td>\n",
              "    </tr>\n",
              "    <tr>\n",
              "      <th>1</th>\n",
              "      <td>-0.495139</td>\n",
              "      <td>1</td>\n",
              "      <td>-1.253064</td>\n",
              "      <td>1</td>\n",
              "      <td>-0.992890</td>\n",
              "      <td>1</td>\n",
              "      <td>1.155024</td>\n",
              "      <td>0.687548</td>\n",
              "      <td>-0.120059</td>\n",
              "      <td>-0.664768</td>\n",
              "      <td>...</td>\n",
              "      <td>0.585778</td>\n",
              "      <td>1.704465</td>\n",
              "      <td>0.467317</td>\n",
              "      <td>1.114266</td>\n",
              "      <td>-0.635317</td>\n",
              "      <td>-0.734267</td>\n",
              "      <td>1</td>\n",
              "      <td>1</td>\n",
              "      <td>0</td>\n",
              "      <td>2</td>\n",
              "    </tr>\n",
              "    <tr>\n",
              "      <th>2</th>\n",
              "      <td>-1.537686</td>\n",
              "      <td>1</td>\n",
              "      <td>-1.253064</td>\n",
              "      <td>1</td>\n",
              "      <td>-0.532099</td>\n",
              "      <td>1</td>\n",
              "      <td>0.493546</td>\n",
              "      <td>1.381165</td>\n",
              "      <td>0.134244</td>\n",
              "      <td>0.209639</td>\n",
              "      <td>...</td>\n",
              "      <td>1.392684</td>\n",
              "      <td>1.074968</td>\n",
              "      <td>0.441498</td>\n",
              "      <td>-0.310171</td>\n",
              "      <td>-0.864922</td>\n",
              "      <td>-0.368140</td>\n",
              "      <td>1</td>\n",
              "      <td>1</td>\n",
              "      <td>0</td>\n",
              "      <td>2</td>\n",
              "    </tr>\n",
              "    <tr>\n",
              "      <th>3</th>\n",
              "      <td>-1.419319</td>\n",
              "      <td>1</td>\n",
              "      <td>1.198517</td>\n",
              "      <td>0</td>\n",
              "      <td>-0.992890</td>\n",
              "      <td>0</td>\n",
              "      <td>-1.215274</td>\n",
              "      <td>1.034357</td>\n",
              "      <td>-0.261339</td>\n",
              "      <td>0.646842</td>\n",
              "      <td>...</td>\n",
              "      <td>1.286750</td>\n",
              "      <td>1.236971</td>\n",
              "      <td>0.594569</td>\n",
              "      <td>0.876859</td>\n",
              "      <td>0.512708</td>\n",
              "      <td>-0.002014</td>\n",
              "      <td>1</td>\n",
              "      <td>0</td>\n",
              "      <td>0</td>\n",
              "      <td>2</td>\n",
              "    </tr>\n",
              "    <tr>\n",
              "      <th>4</th>\n",
              "      <td>1.325906</td>\n",
              "      <td>1</td>\n",
              "      <td>-0.395011</td>\n",
              "      <td>0</td>\n",
              "      <td>2.002254</td>\n",
              "      <td>1</td>\n",
              "      <td>0.658915</td>\n",
              "      <td>0.340740</td>\n",
              "      <td>0.021220</td>\n",
              "      <td>-1.101971</td>\n",
              "      <td>...</td>\n",
              "      <td>1.268718</td>\n",
              "      <td>-0.091452</td>\n",
              "      <td>-0.657666</td>\n",
              "      <td>-1.022389</td>\n",
              "      <td>-0.864922</td>\n",
              "      <td>0.730240</td>\n",
              "      <td>1</td>\n",
              "      <td>1</td>\n",
              "      <td>0</td>\n",
              "      <td>1</td>\n",
              "    </tr>\n",
              "  </tbody>\n",
              "</table>\n",
              "<p>5 rows × 21 columns</p>\n",
              "</div>\n",
              "    <div class=\"colab-df-buttons\">\n",
              "\n",
              "  <div class=\"colab-df-container\">\n",
              "    <button class=\"colab-df-convert\" onclick=\"convertToInteractive('df-1f79729d-1041-4a79-b487-bcaa21304e49')\"\n",
              "            title=\"Convert this dataframe to an interactive table.\"\n",
              "            style=\"display:none;\">\n",
              "\n",
              "  <svg xmlns=\"http://www.w3.org/2000/svg\" height=\"24px\" viewBox=\"0 -960 960 960\">\n",
              "    <path d=\"M120-120v-720h720v720H120Zm60-500h600v-160H180v160Zm220 220h160v-160H400v160Zm0 220h160v-160H400v160ZM180-400h160v-160H180v160Zm440 0h160v-160H620v160ZM180-180h160v-160H180v160Zm440 0h160v-160H620v160Z\"/>\n",
              "  </svg>\n",
              "    </button>\n",
              "\n",
              "  <style>\n",
              "    .colab-df-container {\n",
              "      display:flex;\n",
              "      gap: 12px;\n",
              "    }\n",
              "\n",
              "    .colab-df-convert {\n",
              "      background-color: #E8F0FE;\n",
              "      border: none;\n",
              "      border-radius: 50%;\n",
              "      cursor: pointer;\n",
              "      display: none;\n",
              "      fill: #1967D2;\n",
              "      height: 32px;\n",
              "      padding: 0 0 0 0;\n",
              "      width: 32px;\n",
              "    }\n",
              "\n",
              "    .colab-df-convert:hover {\n",
              "      background-color: #E2EBFA;\n",
              "      box-shadow: 0px 1px 2px rgba(60, 64, 67, 0.3), 0px 1px 3px 1px rgba(60, 64, 67, 0.15);\n",
              "      fill: #174EA6;\n",
              "    }\n",
              "\n",
              "    .colab-df-buttons div {\n",
              "      margin-bottom: 4px;\n",
              "    }\n",
              "\n",
              "    [theme=dark] .colab-df-convert {\n",
              "      background-color: #3B4455;\n",
              "      fill: #D2E3FC;\n",
              "    }\n",
              "\n",
              "    [theme=dark] .colab-df-convert:hover {\n",
              "      background-color: #434B5C;\n",
              "      box-shadow: 0px 1px 3px 1px rgba(0, 0, 0, 0.15);\n",
              "      filter: drop-shadow(0px 1px 2px rgba(0, 0, 0, 0.3));\n",
              "      fill: #FFFFFF;\n",
              "    }\n",
              "  </style>\n",
              "\n",
              "    <script>\n",
              "      const buttonEl =\n",
              "        document.querySelector('#df-1f79729d-1041-4a79-b487-bcaa21304e49 button.colab-df-convert');\n",
              "      buttonEl.style.display =\n",
              "        google.colab.kernel.accessAllowed ? 'block' : 'none';\n",
              "\n",
              "      async function convertToInteractive(key) {\n",
              "        const element = document.querySelector('#df-1f79729d-1041-4a79-b487-bcaa21304e49');\n",
              "        const dataTable =\n",
              "          await google.colab.kernel.invokeFunction('convertToInteractive',\n",
              "                                                    [key], {});\n",
              "        if (!dataTable) return;\n",
              "\n",
              "        const docLinkHtml = 'Like what you see? Visit the ' +\n",
              "          '<a target=\"_blank\" href=https://colab.research.google.com/notebooks/data_table.ipynb>data table notebook</a>'\n",
              "          + ' to learn more about interactive tables.';\n",
              "        element.innerHTML = '';\n",
              "        dataTable['output_type'] = 'display_data';\n",
              "        await google.colab.output.renderOutput(dataTable, element);\n",
              "        const docLink = document.createElement('div');\n",
              "        docLink.innerHTML = docLinkHtml;\n",
              "        element.appendChild(docLink);\n",
              "      }\n",
              "    </script>\n",
              "  </div>\n",
              "\n",
              "\n",
              "<div id=\"df-8f46b7b4-7e78-4a3a-b92c-c5d26f1dc9a0\">\n",
              "  <button class=\"colab-df-quickchart\" onclick=\"quickchart('df-8f46b7b4-7e78-4a3a-b92c-c5d26f1dc9a0')\"\n",
              "            title=\"Suggest charts\"\n",
              "            style=\"display:none;\">\n",
              "\n",
              "<svg xmlns=\"http://www.w3.org/2000/svg\" height=\"24px\"viewBox=\"0 0 24 24\"\n",
              "     width=\"24px\">\n",
              "    <g>\n",
              "        <path d=\"M19 3H5c-1.1 0-2 .9-2 2v14c0 1.1.9 2 2 2h14c1.1 0 2-.9 2-2V5c0-1.1-.9-2-2-2zM9 17H7v-7h2v7zm4 0h-2V7h2v10zm4 0h-2v-4h2v4z\"/>\n",
              "    </g>\n",
              "</svg>\n",
              "  </button>\n",
              "\n",
              "<style>\n",
              "  .colab-df-quickchart {\n",
              "      --bg-color: #E8F0FE;\n",
              "      --fill-color: #1967D2;\n",
              "      --hover-bg-color: #E2EBFA;\n",
              "      --hover-fill-color: #174EA6;\n",
              "      --disabled-fill-color: #AAA;\n",
              "      --disabled-bg-color: #DDD;\n",
              "  }\n",
              "\n",
              "  [theme=dark] .colab-df-quickchart {\n",
              "      --bg-color: #3B4455;\n",
              "      --fill-color: #D2E3FC;\n",
              "      --hover-bg-color: #434B5C;\n",
              "      --hover-fill-color: #FFFFFF;\n",
              "      --disabled-bg-color: #3B4455;\n",
              "      --disabled-fill-color: #666;\n",
              "  }\n",
              "\n",
              "  .colab-df-quickchart {\n",
              "    background-color: var(--bg-color);\n",
              "    border: none;\n",
              "    border-radius: 50%;\n",
              "    cursor: pointer;\n",
              "    display: none;\n",
              "    fill: var(--fill-color);\n",
              "    height: 32px;\n",
              "    padding: 0;\n",
              "    width: 32px;\n",
              "  }\n",
              "\n",
              "  .colab-df-quickchart:hover {\n",
              "    background-color: var(--hover-bg-color);\n",
              "    box-shadow: 0 1px 2px rgba(60, 64, 67, 0.3), 0 1px 3px 1px rgba(60, 64, 67, 0.15);\n",
              "    fill: var(--button-hover-fill-color);\n",
              "  }\n",
              "\n",
              "  .colab-df-quickchart-complete:disabled,\n",
              "  .colab-df-quickchart-complete:disabled:hover {\n",
              "    background-color: var(--disabled-bg-color);\n",
              "    fill: var(--disabled-fill-color);\n",
              "    box-shadow: none;\n",
              "  }\n",
              "\n",
              "  .colab-df-spinner {\n",
              "    border: 2px solid var(--fill-color);\n",
              "    border-color: transparent;\n",
              "    border-bottom-color: var(--fill-color);\n",
              "    animation:\n",
              "      spin 1s steps(1) infinite;\n",
              "  }\n",
              "\n",
              "  @keyframes spin {\n",
              "    0% {\n",
              "      border-color: transparent;\n",
              "      border-bottom-color: var(--fill-color);\n",
              "      border-left-color: var(--fill-color);\n",
              "    }\n",
              "    20% {\n",
              "      border-color: transparent;\n",
              "      border-left-color: var(--fill-color);\n",
              "      border-top-color: var(--fill-color);\n",
              "    }\n",
              "    30% {\n",
              "      border-color: transparent;\n",
              "      border-left-color: var(--fill-color);\n",
              "      border-top-color: var(--fill-color);\n",
              "      border-right-color: var(--fill-color);\n",
              "    }\n",
              "    40% {\n",
              "      border-color: transparent;\n",
              "      border-right-color: var(--fill-color);\n",
              "      border-top-color: var(--fill-color);\n",
              "    }\n",
              "    60% {\n",
              "      border-color: transparent;\n",
              "      border-right-color: var(--fill-color);\n",
              "    }\n",
              "    80% {\n",
              "      border-color: transparent;\n",
              "      border-right-color: var(--fill-color);\n",
              "      border-bottom-color: var(--fill-color);\n",
              "    }\n",
              "    90% {\n",
              "      border-color: transparent;\n",
              "      border-bottom-color: var(--fill-color);\n",
              "    }\n",
              "  }\n",
              "</style>\n",
              "\n",
              "  <script>\n",
              "    async function quickchart(key) {\n",
              "      const quickchartButtonEl =\n",
              "        document.querySelector('#' + key + ' button');\n",
              "      quickchartButtonEl.disabled = true;  // To prevent multiple clicks.\n",
              "      quickchartButtonEl.classList.add('colab-df-spinner');\n",
              "      try {\n",
              "        const charts = await google.colab.kernel.invokeFunction(\n",
              "            'suggestCharts', [key], {});\n",
              "      } catch (error) {\n",
              "        console.error('Error during call to suggestCharts:', error);\n",
              "      }\n",
              "      quickchartButtonEl.classList.remove('colab-df-spinner');\n",
              "      quickchartButtonEl.classList.add('colab-df-quickchart-complete');\n",
              "    }\n",
              "    (() => {\n",
              "      let quickchartButtonEl =\n",
              "        document.querySelector('#df-8f46b7b4-7e78-4a3a-b92c-c5d26f1dc9a0 button');\n",
              "      quickchartButtonEl.style.display =\n",
              "        google.colab.kernel.accessAllowed ? 'block' : 'none';\n",
              "    })();\n",
              "  </script>\n",
              "</div>\n",
              "\n",
              "    </div>\n",
              "  </div>\n"
            ],
            "application/vnd.google.colaboratory.intrinsic+json": {
              "type": "dataframe",
              "variable_name": "df_train"
            }
          },
          "metadata": {},
          "execution_count": 18
        }
      ]
    },
    {
      "cell_type": "code",
      "execution_count": null,
      "metadata": {
        "colab": {
          "base_uri": "https://localhost:8080/",
          "height": 443
        },
        "id": "VX_v1IoirMW8",
        "outputId": "94b13970-0767-4803-a48e-69218b5507c4"
      },
      "outputs": [
        {
          "output_type": "execute_result",
          "data": {
            "text/plain": [
              "      battery_power  blue  clock_speed  dual_sim        fc  four_g  \\\n",
              "0         -0.902597     0     0.830779         0 -0.762495       0   \n",
              "1         -0.495139     1    -1.253064         1 -0.992890       1   \n",
              "2         -1.537686     1    -1.253064         1 -0.532099       1   \n",
              "3         -1.419319     1     1.198517         0 -0.992890       0   \n",
              "4          1.325906     1    -0.395011         0  2.002254       1   \n",
              "...             ...   ...          ...       ...       ...     ...   \n",
              "1995      -1.011860     1    -1.253064         1 -0.992890       1   \n",
              "1996       1.653694     1     1.321096         1 -0.992890       0   \n",
              "1997       1.530773     0    -0.762748         1 -0.762495       1   \n",
              "1998       0.622527     0    -0.762748         0 -0.071307       1   \n",
              "1999      -1.658331     1     0.585621         1  0.159088       1   \n",
              "\n",
              "      int_memory     m_dep  mobile_wt   n_cores        pc  px_height  \\\n",
              "0      -1.380644  0.340740   1.349249 -1.101971 -1.305750  -1.408949   \n",
              "1       1.155024  0.687548  -0.120059 -0.664768 -0.645989   0.585778   \n",
              "2       0.493546  1.381165   0.134244  0.209639 -0.645989   1.392684   \n",
              "3      -1.215274  1.034357  -0.261339  0.646842 -0.151168   1.286750   \n",
              "4       0.658915  0.340740   0.021220 -1.101971  0.673534   1.268718   \n",
              "...          ...       ...        ...       ...       ...        ...   \n",
              "1995   -1.656260  1.034357  -0.967737  0.646842  0.673534   1.300273   \n",
              "1996    0.383299 -1.046495   1.320993 -0.227564 -1.140810   0.608317   \n",
              "1997    0.217930  0.687548  -0.911225  1.521249 -1.140810   0.502383   \n",
              "1998    0.769162 -1.393304   0.134244  0.209639 -0.810929  -0.696707   \n",
              "1999    0.714039  1.381165   0.784130  0.646842  1.003414  -0.365380   \n",
              "\n",
              "      px_width       ram      sc_h      sc_w  talk_time  three_g  \\\n",
              "0    -1.146784  0.391703 -0.784983  0.283103   1.462493        0   \n",
              "1     1.704465  0.467317  1.114266 -0.635317  -0.734267        1   \n",
              "2     1.074968  0.441498 -0.310171 -0.864922  -0.368140        1   \n",
              "3     1.236971  0.594569  0.876859  0.512708  -0.002014        1   \n",
              "4    -0.091452 -0.657666 -1.022389 -0.864922   0.730240        1   \n",
              "...        ...       ...       ...       ...        ...      ...   \n",
              "1995  1.477661 -1.342799  0.164641 -0.405712   1.462493        1   \n",
              "1996  1.651235 -0.085031 -0.310171  0.971917   0.913303        1   \n",
              "1997  0.880565  0.860139 -0.784983 -1.094526  -1.100394        1   \n",
              "1998 -1.345816 -1.157454  1.351672  0.971917   1.462493        1   \n",
              "1999 -1.151413  1.655004  1.589078 -0.405712  -1.649584        1   \n",
              "\n",
              "      touch_screen  wifi  \n",
              "0                0     1  \n",
              "1                1     0  \n",
              "2                1     0  \n",
              "3                0     0  \n",
              "4                1     0  \n",
              "...            ...   ...  \n",
              "1995             1     0  \n",
              "1996             1     1  \n",
              "1997             1     0  \n",
              "1998             1     1  \n",
              "1999             1     1  \n",
              "\n",
              "[2000 rows x 20 columns]"
            ],
            "text/html": [
              "\n",
              "  <div id=\"df-ffa9dc6e-95ae-4862-a91b-248184de5a2f\" class=\"colab-df-container\">\n",
              "    <div>\n",
              "<style scoped>\n",
              "    .dataframe tbody tr th:only-of-type {\n",
              "        vertical-align: middle;\n",
              "    }\n",
              "\n",
              "    .dataframe tbody tr th {\n",
              "        vertical-align: top;\n",
              "    }\n",
              "\n",
              "    .dataframe thead th {\n",
              "        text-align: right;\n",
              "    }\n",
              "</style>\n",
              "<table border=\"1\" class=\"dataframe\">\n",
              "  <thead>\n",
              "    <tr style=\"text-align: right;\">\n",
              "      <th></th>\n",
              "      <th>battery_power</th>\n",
              "      <th>blue</th>\n",
              "      <th>clock_speed</th>\n",
              "      <th>dual_sim</th>\n",
              "      <th>fc</th>\n",
              "      <th>four_g</th>\n",
              "      <th>int_memory</th>\n",
              "      <th>m_dep</th>\n",
              "      <th>mobile_wt</th>\n",
              "      <th>n_cores</th>\n",
              "      <th>pc</th>\n",
              "      <th>px_height</th>\n",
              "      <th>px_width</th>\n",
              "      <th>ram</th>\n",
              "      <th>sc_h</th>\n",
              "      <th>sc_w</th>\n",
              "      <th>talk_time</th>\n",
              "      <th>three_g</th>\n",
              "      <th>touch_screen</th>\n",
              "      <th>wifi</th>\n",
              "    </tr>\n",
              "  </thead>\n",
              "  <tbody>\n",
              "    <tr>\n",
              "      <th>0</th>\n",
              "      <td>-0.902597</td>\n",
              "      <td>0</td>\n",
              "      <td>0.830779</td>\n",
              "      <td>0</td>\n",
              "      <td>-0.762495</td>\n",
              "      <td>0</td>\n",
              "      <td>-1.380644</td>\n",
              "      <td>0.340740</td>\n",
              "      <td>1.349249</td>\n",
              "      <td>-1.101971</td>\n",
              "      <td>-1.305750</td>\n",
              "      <td>-1.408949</td>\n",
              "      <td>-1.146784</td>\n",
              "      <td>0.391703</td>\n",
              "      <td>-0.784983</td>\n",
              "      <td>0.283103</td>\n",
              "      <td>1.462493</td>\n",
              "      <td>0</td>\n",
              "      <td>0</td>\n",
              "      <td>1</td>\n",
              "    </tr>\n",
              "    <tr>\n",
              "      <th>1</th>\n",
              "      <td>-0.495139</td>\n",
              "      <td>1</td>\n",
              "      <td>-1.253064</td>\n",
              "      <td>1</td>\n",
              "      <td>-0.992890</td>\n",
              "      <td>1</td>\n",
              "      <td>1.155024</td>\n",
              "      <td>0.687548</td>\n",
              "      <td>-0.120059</td>\n",
              "      <td>-0.664768</td>\n",
              "      <td>-0.645989</td>\n",
              "      <td>0.585778</td>\n",
              "      <td>1.704465</td>\n",
              "      <td>0.467317</td>\n",
              "      <td>1.114266</td>\n",
              "      <td>-0.635317</td>\n",
              "      <td>-0.734267</td>\n",
              "      <td>1</td>\n",
              "      <td>1</td>\n",
              "      <td>0</td>\n",
              "    </tr>\n",
              "    <tr>\n",
              "      <th>2</th>\n",
              "      <td>-1.537686</td>\n",
              "      <td>1</td>\n",
              "      <td>-1.253064</td>\n",
              "      <td>1</td>\n",
              "      <td>-0.532099</td>\n",
              "      <td>1</td>\n",
              "      <td>0.493546</td>\n",
              "      <td>1.381165</td>\n",
              "      <td>0.134244</td>\n",
              "      <td>0.209639</td>\n",
              "      <td>-0.645989</td>\n",
              "      <td>1.392684</td>\n",
              "      <td>1.074968</td>\n",
              "      <td>0.441498</td>\n",
              "      <td>-0.310171</td>\n",
              "      <td>-0.864922</td>\n",
              "      <td>-0.368140</td>\n",
              "      <td>1</td>\n",
              "      <td>1</td>\n",
              "      <td>0</td>\n",
              "    </tr>\n",
              "    <tr>\n",
              "      <th>3</th>\n",
              "      <td>-1.419319</td>\n",
              "      <td>1</td>\n",
              "      <td>1.198517</td>\n",
              "      <td>0</td>\n",
              "      <td>-0.992890</td>\n",
              "      <td>0</td>\n",
              "      <td>-1.215274</td>\n",
              "      <td>1.034357</td>\n",
              "      <td>-0.261339</td>\n",
              "      <td>0.646842</td>\n",
              "      <td>-0.151168</td>\n",
              "      <td>1.286750</td>\n",
              "      <td>1.236971</td>\n",
              "      <td>0.594569</td>\n",
              "      <td>0.876859</td>\n",
              "      <td>0.512708</td>\n",
              "      <td>-0.002014</td>\n",
              "      <td>1</td>\n",
              "      <td>0</td>\n",
              "      <td>0</td>\n",
              "    </tr>\n",
              "    <tr>\n",
              "      <th>4</th>\n",
              "      <td>1.325906</td>\n",
              "      <td>1</td>\n",
              "      <td>-0.395011</td>\n",
              "      <td>0</td>\n",
              "      <td>2.002254</td>\n",
              "      <td>1</td>\n",
              "      <td>0.658915</td>\n",
              "      <td>0.340740</td>\n",
              "      <td>0.021220</td>\n",
              "      <td>-1.101971</td>\n",
              "      <td>0.673534</td>\n",
              "      <td>1.268718</td>\n",
              "      <td>-0.091452</td>\n",
              "      <td>-0.657666</td>\n",
              "      <td>-1.022389</td>\n",
              "      <td>-0.864922</td>\n",
              "      <td>0.730240</td>\n",
              "      <td>1</td>\n",
              "      <td>1</td>\n",
              "      <td>0</td>\n",
              "    </tr>\n",
              "    <tr>\n",
              "      <th>...</th>\n",
              "      <td>...</td>\n",
              "      <td>...</td>\n",
              "      <td>...</td>\n",
              "      <td>...</td>\n",
              "      <td>...</td>\n",
              "      <td>...</td>\n",
              "      <td>...</td>\n",
              "      <td>...</td>\n",
              "      <td>...</td>\n",
              "      <td>...</td>\n",
              "      <td>...</td>\n",
              "      <td>...</td>\n",
              "      <td>...</td>\n",
              "      <td>...</td>\n",
              "      <td>...</td>\n",
              "      <td>...</td>\n",
              "      <td>...</td>\n",
              "      <td>...</td>\n",
              "      <td>...</td>\n",
              "      <td>...</td>\n",
              "    </tr>\n",
              "    <tr>\n",
              "      <th>1995</th>\n",
              "      <td>-1.011860</td>\n",
              "      <td>1</td>\n",
              "      <td>-1.253064</td>\n",
              "      <td>1</td>\n",
              "      <td>-0.992890</td>\n",
              "      <td>1</td>\n",
              "      <td>-1.656260</td>\n",
              "      <td>1.034357</td>\n",
              "      <td>-0.967737</td>\n",
              "      <td>0.646842</td>\n",
              "      <td>0.673534</td>\n",
              "      <td>1.300273</td>\n",
              "      <td>1.477661</td>\n",
              "      <td>-1.342799</td>\n",
              "      <td>0.164641</td>\n",
              "      <td>-0.405712</td>\n",
              "      <td>1.462493</td>\n",
              "      <td>1</td>\n",
              "      <td>1</td>\n",
              "      <td>0</td>\n",
              "    </tr>\n",
              "    <tr>\n",
              "      <th>1996</th>\n",
              "      <td>1.653694</td>\n",
              "      <td>1</td>\n",
              "      <td>1.321096</td>\n",
              "      <td>1</td>\n",
              "      <td>-0.992890</td>\n",
              "      <td>0</td>\n",
              "      <td>0.383299</td>\n",
              "      <td>-1.046495</td>\n",
              "      <td>1.320993</td>\n",
              "      <td>-0.227564</td>\n",
              "      <td>-1.140810</td>\n",
              "      <td>0.608317</td>\n",
              "      <td>1.651235</td>\n",
              "      <td>-0.085031</td>\n",
              "      <td>-0.310171</td>\n",
              "      <td>0.971917</td>\n",
              "      <td>0.913303</td>\n",
              "      <td>1</td>\n",
              "      <td>1</td>\n",
              "      <td>1</td>\n",
              "    </tr>\n",
              "    <tr>\n",
              "      <th>1997</th>\n",
              "      <td>1.530773</td>\n",
              "      <td>0</td>\n",
              "      <td>-0.762748</td>\n",
              "      <td>1</td>\n",
              "      <td>-0.762495</td>\n",
              "      <td>1</td>\n",
              "      <td>0.217930</td>\n",
              "      <td>0.687548</td>\n",
              "      <td>-0.911225</td>\n",
              "      <td>1.521249</td>\n",
              "      <td>-1.140810</td>\n",
              "      <td>0.502383</td>\n",
              "      <td>0.880565</td>\n",
              "      <td>0.860139</td>\n",
              "      <td>-0.784983</td>\n",
              "      <td>-1.094526</td>\n",
              "      <td>-1.100394</td>\n",
              "      <td>1</td>\n",
              "      <td>1</td>\n",
              "      <td>0</td>\n",
              "    </tr>\n",
              "    <tr>\n",
              "      <th>1998</th>\n",
              "      <td>0.622527</td>\n",
              "      <td>0</td>\n",
              "      <td>-0.762748</td>\n",
              "      <td>0</td>\n",
              "      <td>-0.071307</td>\n",
              "      <td>1</td>\n",
              "      <td>0.769162</td>\n",
              "      <td>-1.393304</td>\n",
              "      <td>0.134244</td>\n",
              "      <td>0.209639</td>\n",
              "      <td>-0.810929</td>\n",
              "      <td>-0.696707</td>\n",
              "      <td>-1.345816</td>\n",
              "      <td>-1.157454</td>\n",
              "      <td>1.351672</td>\n",
              "      <td>0.971917</td>\n",
              "      <td>1.462493</td>\n",
              "      <td>1</td>\n",
              "      <td>1</td>\n",
              "      <td>1</td>\n",
              "    </tr>\n",
              "    <tr>\n",
              "      <th>1999</th>\n",
              "      <td>-1.658331</td>\n",
              "      <td>1</td>\n",
              "      <td>0.585621</td>\n",
              "      <td>1</td>\n",
              "      <td>0.159088</td>\n",
              "      <td>1</td>\n",
              "      <td>0.714039</td>\n",
              "      <td>1.381165</td>\n",
              "      <td>0.784130</td>\n",
              "      <td>0.646842</td>\n",
              "      <td>1.003414</td>\n",
              "      <td>-0.365380</td>\n",
              "      <td>-1.151413</td>\n",
              "      <td>1.655004</td>\n",
              "      <td>1.589078</td>\n",
              "      <td>-0.405712</td>\n",
              "      <td>-1.649584</td>\n",
              "      <td>1</td>\n",
              "      <td>1</td>\n",
              "      <td>1</td>\n",
              "    </tr>\n",
              "  </tbody>\n",
              "</table>\n",
              "<p>2000 rows × 20 columns</p>\n",
              "</div>\n",
              "    <div class=\"colab-df-buttons\">\n",
              "\n",
              "  <div class=\"colab-df-container\">\n",
              "    <button class=\"colab-df-convert\" onclick=\"convertToInteractive('df-ffa9dc6e-95ae-4862-a91b-248184de5a2f')\"\n",
              "            title=\"Convert this dataframe to an interactive table.\"\n",
              "            style=\"display:none;\">\n",
              "\n",
              "  <svg xmlns=\"http://www.w3.org/2000/svg\" height=\"24px\" viewBox=\"0 -960 960 960\">\n",
              "    <path d=\"M120-120v-720h720v720H120Zm60-500h600v-160H180v160Zm220 220h160v-160H400v160Zm0 220h160v-160H400v160ZM180-400h160v-160H180v160Zm440 0h160v-160H620v160ZM180-180h160v-160H180v160Zm440 0h160v-160H620v160Z\"/>\n",
              "  </svg>\n",
              "    </button>\n",
              "\n",
              "  <style>\n",
              "    .colab-df-container {\n",
              "      display:flex;\n",
              "      gap: 12px;\n",
              "    }\n",
              "\n",
              "    .colab-df-convert {\n",
              "      background-color: #E8F0FE;\n",
              "      border: none;\n",
              "      border-radius: 50%;\n",
              "      cursor: pointer;\n",
              "      display: none;\n",
              "      fill: #1967D2;\n",
              "      height: 32px;\n",
              "      padding: 0 0 0 0;\n",
              "      width: 32px;\n",
              "    }\n",
              "\n",
              "    .colab-df-convert:hover {\n",
              "      background-color: #E2EBFA;\n",
              "      box-shadow: 0px 1px 2px rgba(60, 64, 67, 0.3), 0px 1px 3px 1px rgba(60, 64, 67, 0.15);\n",
              "      fill: #174EA6;\n",
              "    }\n",
              "\n",
              "    .colab-df-buttons div {\n",
              "      margin-bottom: 4px;\n",
              "    }\n",
              "\n",
              "    [theme=dark] .colab-df-convert {\n",
              "      background-color: #3B4455;\n",
              "      fill: #D2E3FC;\n",
              "    }\n",
              "\n",
              "    [theme=dark] .colab-df-convert:hover {\n",
              "      background-color: #434B5C;\n",
              "      box-shadow: 0px 1px 3px 1px rgba(0, 0, 0, 0.15);\n",
              "      filter: drop-shadow(0px 1px 2px rgba(0, 0, 0, 0.3));\n",
              "      fill: #FFFFFF;\n",
              "    }\n",
              "  </style>\n",
              "\n",
              "    <script>\n",
              "      const buttonEl =\n",
              "        document.querySelector('#df-ffa9dc6e-95ae-4862-a91b-248184de5a2f button.colab-df-convert');\n",
              "      buttonEl.style.display =\n",
              "        google.colab.kernel.accessAllowed ? 'block' : 'none';\n",
              "\n",
              "      async function convertToInteractive(key) {\n",
              "        const element = document.querySelector('#df-ffa9dc6e-95ae-4862-a91b-248184de5a2f');\n",
              "        const dataTable =\n",
              "          await google.colab.kernel.invokeFunction('convertToInteractive',\n",
              "                                                    [key], {});\n",
              "        if (!dataTable) return;\n",
              "\n",
              "        const docLinkHtml = 'Like what you see? Visit the ' +\n",
              "          '<a target=\"_blank\" href=https://colab.research.google.com/notebooks/data_table.ipynb>data table notebook</a>'\n",
              "          + ' to learn more about interactive tables.';\n",
              "        element.innerHTML = '';\n",
              "        dataTable['output_type'] = 'display_data';\n",
              "        await google.colab.output.renderOutput(dataTable, element);\n",
              "        const docLink = document.createElement('div');\n",
              "        docLink.innerHTML = docLinkHtml;\n",
              "        element.appendChild(docLink);\n",
              "      }\n",
              "    </script>\n",
              "  </div>\n",
              "\n",
              "\n",
              "<div id=\"df-d0277553-2b8c-4fad-8218-91df3697f77e\">\n",
              "  <button class=\"colab-df-quickchart\" onclick=\"quickchart('df-d0277553-2b8c-4fad-8218-91df3697f77e')\"\n",
              "            title=\"Suggest charts\"\n",
              "            style=\"display:none;\">\n",
              "\n",
              "<svg xmlns=\"http://www.w3.org/2000/svg\" height=\"24px\"viewBox=\"0 0 24 24\"\n",
              "     width=\"24px\">\n",
              "    <g>\n",
              "        <path d=\"M19 3H5c-1.1 0-2 .9-2 2v14c0 1.1.9 2 2 2h14c1.1 0 2-.9 2-2V5c0-1.1-.9-2-2-2zM9 17H7v-7h2v7zm4 0h-2V7h2v10zm4 0h-2v-4h2v4z\"/>\n",
              "    </g>\n",
              "</svg>\n",
              "  </button>\n",
              "\n",
              "<style>\n",
              "  .colab-df-quickchart {\n",
              "      --bg-color: #E8F0FE;\n",
              "      --fill-color: #1967D2;\n",
              "      --hover-bg-color: #E2EBFA;\n",
              "      --hover-fill-color: #174EA6;\n",
              "      --disabled-fill-color: #AAA;\n",
              "      --disabled-bg-color: #DDD;\n",
              "  }\n",
              "\n",
              "  [theme=dark] .colab-df-quickchart {\n",
              "      --bg-color: #3B4455;\n",
              "      --fill-color: #D2E3FC;\n",
              "      --hover-bg-color: #434B5C;\n",
              "      --hover-fill-color: #FFFFFF;\n",
              "      --disabled-bg-color: #3B4455;\n",
              "      --disabled-fill-color: #666;\n",
              "  }\n",
              "\n",
              "  .colab-df-quickchart {\n",
              "    background-color: var(--bg-color);\n",
              "    border: none;\n",
              "    border-radius: 50%;\n",
              "    cursor: pointer;\n",
              "    display: none;\n",
              "    fill: var(--fill-color);\n",
              "    height: 32px;\n",
              "    padding: 0;\n",
              "    width: 32px;\n",
              "  }\n",
              "\n",
              "  .colab-df-quickchart:hover {\n",
              "    background-color: var(--hover-bg-color);\n",
              "    box-shadow: 0 1px 2px rgba(60, 64, 67, 0.3), 0 1px 3px 1px rgba(60, 64, 67, 0.15);\n",
              "    fill: var(--button-hover-fill-color);\n",
              "  }\n",
              "\n",
              "  .colab-df-quickchart-complete:disabled,\n",
              "  .colab-df-quickchart-complete:disabled:hover {\n",
              "    background-color: var(--disabled-bg-color);\n",
              "    fill: var(--disabled-fill-color);\n",
              "    box-shadow: none;\n",
              "  }\n",
              "\n",
              "  .colab-df-spinner {\n",
              "    border: 2px solid var(--fill-color);\n",
              "    border-color: transparent;\n",
              "    border-bottom-color: var(--fill-color);\n",
              "    animation:\n",
              "      spin 1s steps(1) infinite;\n",
              "  }\n",
              "\n",
              "  @keyframes spin {\n",
              "    0% {\n",
              "      border-color: transparent;\n",
              "      border-bottom-color: var(--fill-color);\n",
              "      border-left-color: var(--fill-color);\n",
              "    }\n",
              "    20% {\n",
              "      border-color: transparent;\n",
              "      border-left-color: var(--fill-color);\n",
              "      border-top-color: var(--fill-color);\n",
              "    }\n",
              "    30% {\n",
              "      border-color: transparent;\n",
              "      border-left-color: var(--fill-color);\n",
              "      border-top-color: var(--fill-color);\n",
              "      border-right-color: var(--fill-color);\n",
              "    }\n",
              "    40% {\n",
              "      border-color: transparent;\n",
              "      border-right-color: var(--fill-color);\n",
              "      border-top-color: var(--fill-color);\n",
              "    }\n",
              "    60% {\n",
              "      border-color: transparent;\n",
              "      border-right-color: var(--fill-color);\n",
              "    }\n",
              "    80% {\n",
              "      border-color: transparent;\n",
              "      border-right-color: var(--fill-color);\n",
              "      border-bottom-color: var(--fill-color);\n",
              "    }\n",
              "    90% {\n",
              "      border-color: transparent;\n",
              "      border-bottom-color: var(--fill-color);\n",
              "    }\n",
              "  }\n",
              "</style>\n",
              "\n",
              "  <script>\n",
              "    async function quickchart(key) {\n",
              "      const quickchartButtonEl =\n",
              "        document.querySelector('#' + key + ' button');\n",
              "      quickchartButtonEl.disabled = true;  // To prevent multiple clicks.\n",
              "      quickchartButtonEl.classList.add('colab-df-spinner');\n",
              "      try {\n",
              "        const charts = await google.colab.kernel.invokeFunction(\n",
              "            'suggestCharts', [key], {});\n",
              "      } catch (error) {\n",
              "        console.error('Error during call to suggestCharts:', error);\n",
              "      }\n",
              "      quickchartButtonEl.classList.remove('colab-df-spinner');\n",
              "      quickchartButtonEl.classList.add('colab-df-quickchart-complete');\n",
              "    }\n",
              "    (() => {\n",
              "      let quickchartButtonEl =\n",
              "        document.querySelector('#df-d0277553-2b8c-4fad-8218-91df3697f77e button');\n",
              "      quickchartButtonEl.style.display =\n",
              "        google.colab.kernel.accessAllowed ? 'block' : 'none';\n",
              "    })();\n",
              "  </script>\n",
              "</div>\n",
              "\n",
              "  <div id=\"id_0c93d483-6982-499f-80f3-0c2ffc96cba0\">\n",
              "    <style>\n",
              "      .colab-df-generate {\n",
              "        background-color: #E8F0FE;\n",
              "        border: none;\n",
              "        border-radius: 50%;\n",
              "        cursor: pointer;\n",
              "        display: none;\n",
              "        fill: #1967D2;\n",
              "        height: 32px;\n",
              "        padding: 0 0 0 0;\n",
              "        width: 32px;\n",
              "      }\n",
              "\n",
              "      .colab-df-generate:hover {\n",
              "        background-color: #E2EBFA;\n",
              "        box-shadow: 0px 1px 2px rgba(60, 64, 67, 0.3), 0px 1px 3px 1px rgba(60, 64, 67, 0.15);\n",
              "        fill: #174EA6;\n",
              "      }\n",
              "\n",
              "      [theme=dark] .colab-df-generate {\n",
              "        background-color: #3B4455;\n",
              "        fill: #D2E3FC;\n",
              "      }\n",
              "\n",
              "      [theme=dark] .colab-df-generate:hover {\n",
              "        background-color: #434B5C;\n",
              "        box-shadow: 0px 1px 3px 1px rgba(0, 0, 0, 0.15);\n",
              "        filter: drop-shadow(0px 1px 2px rgba(0, 0, 0, 0.3));\n",
              "        fill: #FFFFFF;\n",
              "      }\n",
              "    </style>\n",
              "    <button class=\"colab-df-generate\" onclick=\"generateWithVariable('x')\"\n",
              "            title=\"Generate code using this dataframe.\"\n",
              "            style=\"display:none;\">\n",
              "\n",
              "  <svg xmlns=\"http://www.w3.org/2000/svg\" height=\"24px\"viewBox=\"0 0 24 24\"\n",
              "       width=\"24px\">\n",
              "    <path d=\"M7,19H8.4L18.45,9,17,7.55,7,17.6ZM5,21V16.75L18.45,3.32a2,2,0,0,1,2.83,0l1.4,1.43a1.91,1.91,0,0,1,.58,1.4,1.91,1.91,0,0,1-.58,1.4L9.25,21ZM18.45,9,17,7.55Zm-12,3A5.31,5.31,0,0,0,4.9,8.1,5.31,5.31,0,0,0,1,6.5,5.31,5.31,0,0,0,4.9,4.9,5.31,5.31,0,0,0,6.5,1,5.31,5.31,0,0,0,8.1,4.9,5.31,5.31,0,0,0,12,6.5,5.46,5.46,0,0,0,6.5,12Z\"/>\n",
              "  </svg>\n",
              "    </button>\n",
              "    <script>\n",
              "      (() => {\n",
              "      const buttonEl =\n",
              "        document.querySelector('#id_0c93d483-6982-499f-80f3-0c2ffc96cba0 button.colab-df-generate');\n",
              "      buttonEl.style.display =\n",
              "        google.colab.kernel.accessAllowed ? 'block' : 'none';\n",
              "\n",
              "      buttonEl.onclick = () => {\n",
              "        google.colab.notebook.generateWithVariable('x');\n",
              "      }\n",
              "      })();\n",
              "    </script>\n",
              "  </div>\n",
              "\n",
              "    </div>\n",
              "  </div>\n"
            ],
            "application/vnd.google.colaboratory.intrinsic+json": {
              "type": "dataframe",
              "variable_name": "x",
              "summary": "{\n  \"name\": \"x\",\n  \"rows\": 2000,\n  \"fields\": [\n    {\n      \"column\": \"battery_power\",\n      \"properties\": {\n        \"dtype\": \"number\",\n        \"std\": 1.0002500937890797,\n        \"min\": -1.6788174422066329,\n        \"max\": 1.728811940626923,\n        \"num_unique_values\": 1094,\n        \"samples\": [\n          -1.4830551663725076,\n          1.3099717225632126,\n          1.1051042245972673\n        ],\n        \"semantic_type\": \"\",\n        \"description\": \"\"\n      }\n    },\n    {\n      \"column\": \"blue\",\n      \"properties\": {\n        \"dtype\": \"number\",\n        \"std\": 0,\n        \"min\": 0,\n        \"max\": 1,\n        \"num_unique_values\": 2,\n        \"samples\": [\n          1,\n          0\n        ],\n        \"semantic_type\": \"\",\n        \"description\": \"\"\n      }\n    },\n    {\n      \"column\": \"clock_speed\",\n      \"properties\": {\n        \"dtype\": \"number\",\n        \"std\": 1.0002500937890797,\n        \"min\": -1.253064196519815,\n        \"max\": 1.8114117059497739,\n        \"num_unique_values\": 26,\n        \"samples\": [\n          0.7082003810607219,\n          -0.2724319077295465\n        ],\n        \"semantic_type\": \"\",\n        \"description\": \"\"\n      }\n    },\n    {\n      \"column\": \"dual_sim\",\n      \"properties\": {\n        \"dtype\": \"number\",\n        \"std\": 0,\n        \"min\": 0,\n        \"max\": 1,\n        \"num_unique_values\": 2,\n        \"samples\": [\n          1,\n          0\n        ],\n        \"semantic_type\": \"\",\n        \"description\": \"\"\n      }\n    },\n    {\n      \"column\": \"fc\",\n      \"properties\": {\n        \"dtype\": \"number\",\n        \"std\": 1.0002500937890797,\n        \"min\": -0.9928903907106499,\n        \"max\": 3.3846284452337403,\n        \"num_unique_values\": 20,\n        \"samples\": [\n          -0.7624946625030504,\n          2.9238369888185414\n        ],\n        \"semantic_type\": \"\",\n        \"description\": \"\"\n      }\n    },\n    {\n      \"column\": \"four_g\",\n      \"properties\": {\n        \"dtype\": \"number\",\n        \"std\": 0,\n        \"min\": 0,\n        \"max\": 1,\n        \"num_unique_values\": 2,\n        \"samples\": [\n          1,\n          0\n        ],\n        \"semantic_type\": \"\",\n        \"description\": \"\"\n      }\n    },\n    {\n      \"column\": \"int_memory\",\n      \"properties\": {\n        \"dtype\": \"number\",\n        \"std\": 1.0002500937890795,\n        \"min\": -1.6562595917120186,\n        \"max\": 1.761379557145424,\n        \"num_unique_values\": 63,\n        \"samples\": [\n          -0.22305607767502658,\n          1.3203938605186571\n        ],\n        \"semantic_type\": \"\",\n        \"description\": \"\"\n      }\n    },\n    {\n      \"column\": \"m_dep\",\n      \"properties\": {\n        \"dtype\": \"number\",\n        \"std\": 1.0002500937890797,\n        \"min\": -1.3933037788854497,\n        \"max\": 1.7279741327434355,\n        \"num_unique_values\": 10,\n        \"samples\": [\n          -0.3528778083424879,\n          0.6875481622004737\n        ],\n        \"semantic_type\": \"\",\n        \"description\": \"\"\n      }\n    },\n    {\n      \"column\": \"mobile_wt\",\n      \"properties\": {\n        \"dtype\": \"number\",\n        \"std\": 1.0002500937890797,\n        \"min\": -1.7023913955400367,\n        \"max\": 1.688319943483091,\n        \"num_unique_values\": 121,\n        \"samples\": [\n          0.219011696573069,\n          -0.17657129297962923\n        ],\n        \"semantic_type\": \"\",\n        \"description\": \"\"\n      }\n    },\n    {\n      \"column\": \"n_cores\",\n      \"properties\": {\n        \"dtype\": \"number\",\n        \"std\": 1.0002500937890797,\n        \"min\": -1.539174726681169,\n        \"max\": 1.5212493854529547,\n        \"num_unique_values\": 8,\n        \"samples\": [\n          -0.6647678374999909,\n          1.5212493854529547\n        ],\n        \"semantic_type\": \"\",\n        \"description\": \"\"\n      }\n    },\n    {\n      \"column\": \"pc\",\n      \"properties\": {\n        \"dtype\": \"number\",\n        \"std\": 1.0002500937890797,\n        \"min\": -1.635630759779593,\n        \"max\": 1.6631757945078938,\n        \"num_unique_values\": 21,\n        \"samples\": [\n          -1.3057501043508444,\n          1.4982354667935194\n        ],\n        \"semantic_type\": \"\",\n        \"description\": \"\"\n      }\n    },\n    {\n      \"column\": \"px_height\",\n      \"properties\": {\n        \"dtype\": \"number\",\n        \"std\": 1.0002500937890797,\n        \"min\": -1.4540271273368084,\n        \"max\": 2.963672187475819,\n        \"num_unique_values\": 1137,\n        \"samples\": [\n          -0.6245815416985191,\n          1.5391895512709313\n        ],\n        \"semantic_type\": \"\",\n        \"description\": \"\"\n      }\n    },\n    {\n      \"column\": \"px_width\",\n      \"properties\": {\n        \"dtype\": \"number\",\n        \"std\": 1.0002500937890795,\n        \"min\": -1.7392512986076978,\n        \"max\": 1.7276079282669725,\n        \"num_unique_values\": 1109,\n        \"samples\": [\n          0.42927146212766015,\n          -1.6235350360284364\n        ],\n        \"semantic_type\": \"\",\n        \"description\": \"\"\n      }\n    },\n    {\n      \"column\": \"ram\",\n      \"properties\": {\n        \"dtype\": \"number\",\n        \"std\": 1.0002500937890795,\n        \"min\": -1.7227113732614343,\n        \"max\": 1.7278512546317912,\n        \"num_unique_values\": 1562,\n        \"samples\": [\n          0.18146068088060488,\n          -1.1528429328450758\n        ],\n        \"semantic_type\": \"\",\n        \"description\": \"\"\n      }\n    },\n    {\n      \"column\": \"sc_h\",\n      \"properties\": {\n        \"dtype\": \"number\",\n        \"std\": 1.0002500937890797,\n        \"min\": -1.7346077198723144,\n        \"max\": 1.5890777763587678,\n        \"num_unique_values\": 15,\n        \"samples\": [\n          1.351671669485119,\n          -0.5475771855040708\n        ],\n        \"semantic_type\": \"\",\n        \"description\": \"\"\n      }\n    },\n    {\n      \"column\": \"sc_w\",\n      \"properties\": {\n        \"dtype\": \"number\",\n        \"std\": 1.0002500937890795,\n        \"min\": -1.3241312691859664,\n        \"max\": 2.8087563405500133,\n        \"num_unique_values\": 19,\n        \"samples\": [\n          0.2831028012669145,\n          0.9719174028895778\n        ],\n        \"semantic_type\": \"\",\n        \"description\": \"\"\n      }\n    },\n    {\n      \"column\": \"talk_time\",\n      \"properties\": {\n        \"dtype\": \"number\",\n        \"std\": 1.0002500937890797,\n        \"min\": -1.6495840959342845,\n        \"max\": 1.6455567016261552,\n        \"num_unique_values\": 19,\n        \"samples\": [\n          1.4624933239839086,\n          -0.18507707479631122\n        ],\n        \"semantic_type\": \"\",\n        \"description\": \"\"\n      }\n    },\n    {\n      \"column\": \"three_g\",\n      \"properties\": {\n        \"dtype\": \"number\",\n        \"std\": 0,\n        \"min\": 0,\n        \"max\": 1,\n        \"num_unique_values\": 2,\n        \"samples\": [\n          1,\n          0\n        ],\n        \"semantic_type\": \"\",\n        \"description\": \"\"\n      }\n    },\n    {\n      \"column\": \"touch_screen\",\n      \"properties\": {\n        \"dtype\": \"number\",\n        \"std\": 0,\n        \"min\": 0,\n        \"max\": 1,\n        \"num_unique_values\": 2,\n        \"samples\": [\n          1,\n          0\n        ],\n        \"semantic_type\": \"\",\n        \"description\": \"\"\n      }\n    },\n    {\n      \"column\": \"wifi\",\n      \"properties\": {\n        \"dtype\": \"number\",\n        \"std\": 0,\n        \"min\": 0,\n        \"max\": 1,\n        \"num_unique_values\": 2,\n        \"samples\": [\n          0,\n          1\n        ],\n        \"semantic_type\": \"\",\n        \"description\": \"\"\n      }\n    }\n  ]\n}"
            }
          },
          "metadata": {},
          "execution_count": 19
        }
      ],
      "source": [
        "x= df_train.drop(\"price_range\",axis=1)\n",
        "x"
      ]
    },
    {
      "cell_type": "code",
      "execution_count": null,
      "metadata": {
        "colab": {
          "base_uri": "https://localhost:8080/"
        },
        "id": "uGsOmcQHrOVl",
        "outputId": "92bc25b4-2e42-4292-c104-2c6140c9282c"
      },
      "outputs": [
        {
          "output_type": "execute_result",
          "data": {
            "text/plain": [
              "0       1\n",
              "1       2\n",
              "2       2\n",
              "3       2\n",
              "4       1\n",
              "       ..\n",
              "1995    0\n",
              "1996    2\n",
              "1997    3\n",
              "1998    0\n",
              "1999    3\n",
              "Name: price_range, Length: 2000, dtype: int64"
            ]
          },
          "metadata": {},
          "execution_count": 20
        }
      ],
      "source": [
        "y=df_train[\"price_range\"]\n",
        "y"
      ]
    },
    {
      "cell_type": "code",
      "execution_count": null,
      "metadata": {
        "id": "aSQZUo8OrOf5"
      },
      "outputs": [],
      "source": [
        "x_train , x_test , y_train , y_test = train_test_split(x , y , test_size=0.3 , random_state=42)"
      ]
    },
    {
      "cell_type": "markdown",
      "metadata": {
        "id": "8hf37oU_rOu3"
      },
      "source": [
        "## 4- ML Model"
      ]
    },
    {
      "cell_type": "markdown",
      "source": [
        "### Random Forest Model"
      ],
      "metadata": {
        "id": "LqVCYHpaAtmj"
      }
    },
    {
      "cell_type": "code",
      "execution_count": null,
      "metadata": {
        "id": "G0aThcHfrT7O",
        "colab": {
          "base_uri": "https://localhost:8080/"
        },
        "outputId": "fd3644fc-e99b-4167-9af4-f1ea5beeddf9"
      },
      "outputs": [
        {
          "output_type": "stream",
          "name": "stdout",
          "text": [
            "train score for Random Forest is :  1.0\n",
            "test  score for Random Forest is :  0.8683333333333333\n"
          ]
        }
      ],
      "source": [
        "Rf_model= RandomForestClassifier(random_state=42)\n",
        "Rf_model.fit(x_train,y_train)\n",
        "print(\"train score for Random Forest is : \",Rf_model.score(x_train,y_train))\n",
        "print(\"test  score for Random Forest is : \",Rf_model.score(x_test,y_test))\n",
        "yRF_pred= Rf_model.predict(x_test)"
      ]
    },
    {
      "cell_type": "code",
      "source": [
        "Rfconfusion= confusion_matrix(y_test,yRF_pred)\n",
        "plt.figure(figsize=(10,6))\n",
        "sns.heatmap(Rfconfusion, annot=True, fmt='d', cmap=\"Blues\")\n",
        "\n",
        "plt.xlabel(\"predicted\")\n",
        "plt.ylabel(\"truth\")\n",
        "plt.title(\"RF confusion matrix \")\n",
        "plt.show()"
      ],
      "metadata": {
        "colab": {
          "base_uri": "https://localhost:8080/",
          "height": 564
        },
        "id": "ZCdFe54tz4WG",
        "outputId": "69f548a4-3059-40a4-8f96-99660eb653b8"
      },
      "execution_count": null,
      "outputs": [
        {
          "output_type": "display_data",
          "data": {
            "text/plain": [
              "<Figure size 1000x600 with 2 Axes>"
            ],
            "image/png": "[encoded data removed]"
          },
          "metadata": {}
        }
      ]
    },
    {
      "cell_type": "code",
      "source": [
        "print(classification_report(y_test,yRF_pred))"
      ],
      "metadata": {
        "colab": {
          "base_uri": "https://localhost:8080/"
        },
        "id": "hmC0zT7K6ka1",
        "outputId": "fd94b12c-b809-4a64-9705-7973db695712"
      },
      "execution_count": null,
      "outputs": [
        {
          "output_type": "stream",
          "name": "stdout",
          "text": [
            "              precision    recall  f1-score   support\n",
            "\n",
            "           0       0.94      0.95      0.94       151\n",
            "           1       0.82      0.82      0.82       146\n",
            "           2       0.79      0.78      0.79       148\n",
            "           3       0.92      0.91      0.92       155\n",
            "\n",
            "    accuracy                           0.87       600\n",
            "   macro avg       0.87      0.87      0.87       600\n",
            "weighted avg       0.87      0.87      0.87       600\n",
            "\n"
          ]
        }
      ]
    },
    {
      "cell_type": "markdown",
      "source": [
        "### Logistic Regression"
      ],
      "metadata": {
        "id": "vylN2OT6Awr-"
      }
    },
    {
      "cell_type": "code",
      "execution_count": null,
      "metadata": {
        "id": "ep1ZoqzGrUAD",
        "colab": {
          "base_uri": "https://localhost:8080/"
        },
        "outputId": "ef955355-0c59-458e-fdba-7edc1fd7ca3f"
      },
      "outputs": [
        {
          "output_type": "stream",
          "name": "stdout",
          "text": [
            "train score for Logistic Regression:  0.9764285714285714\n",
            "test  score for Logistic Regression:  0.9583333333333334\n"
          ]
        }
      ],
      "source": [
        "logmodel = LogisticRegression()\n",
        "logmodel.fit(x_train,y_train)\n",
        "\n",
        "print(\"train score for Logistic Regression: \",logmodel.score(x_train,y_train))\n",
        "print(\"test  score for Logistic Regression: \",logmodel.score(x_test,y_test))\n",
        "\n",
        "yLog_pred = logmodel.predict(x_test)"
      ]
    },
    {
      "cell_type": "code",
      "source": [
        "logconfusion= confusion_matrix(y_test,yLog_pred)\n",
        "plt.figure(figsize=(10,6))\n",
        "sns.heatmap(logconfusion, annot=True, fmt='d', cmap=\"Blues\")\n",
        "\n",
        "plt.xlabel(\"predicted\")\n",
        "plt.ylabel(\"truth\")\n",
        "plt.title(\"Logistic Regression confusion matrix \")\n",
        "plt.show()"
      ],
      "metadata": {
        "colab": {
          "base_uri": "https://localhost:8080/",
          "height": 564
        },
        "id": "1pJBJnc65TN6",
        "outputId": "7bce6f32-9664-4960-c3a2-db4b4084306c"
      },
      "execution_count": null,
      "outputs": [
        {
          "output_type": "display_data",
          "data": {
            "text/plain": [
              "<Figure size 1000x600 with 2 Axes>"
            ],
            "image/png": "[encoded data removed]"
          },
          "metadata": {}
        }
      ]
    },
    {
      "cell_type": "code",
      "execution_count": null,
      "metadata": {
        "id": "NlOAajf1rUDh",
        "colab": {
          "base_uri": "https://localhost:8080/"
        },
        "outputId": "175cd4ab-7cae-4fda-e45b-670f573f2cce"
      },
      "outputs": [
        {
          "output_type": "stream",
          "name": "stdout",
          "text": [
            "              precision    recall  f1-score   support\n",
            "\n",
            "           0       0.98      0.95      0.97       151\n",
            "           1       0.91      0.97      0.94       146\n",
            "           2       0.99      0.91      0.95       148\n",
            "           3       0.96      0.99      0.98       155\n",
            "\n",
            "    accuracy                           0.96       600\n",
            "   macro avg       0.96      0.96      0.96       600\n",
            "weighted avg       0.96      0.96      0.96       600\n",
            "\n"
          ]
        }
      ],
      "source": [
        "print(classification_report(y_test,yLog_pred))"
      ]
    },
    {
      "cell_type": "markdown",
      "source": [
        "### Knn Model"
      ],
      "metadata": {
        "id": "hZHUPFMfAz6C"
      }
    },
    {
      "cell_type": "code",
      "execution_count": null,
      "metadata": {
        "id": "3o7aZ6U6rUFs"
      },
      "outputs": [],
      "source": [
        "#Predictions for the KNN Classifiers\n",
        "knn5 = KNeighborsClassifier(n_neighbors = 5)\n",
        "knn1 = KNeighborsClassifier(n_neighbors=1)\n",
        "\n",
        "knn5.fit(x_train, y_train)\n",
        "knn1.fit(x_train, y_train)\n",
        "\n",
        "yKnn_pred_5 = knn5.predict(x_test)\n",
        "yKnn_pred_1 = knn1.predict(x_test)"
      ]
    },
    {
      "cell_type": "code",
      "execution_count": null,
      "metadata": {
        "id": "8Y47Qfl4rUI7",
        "colab": {
          "base_uri": "https://localhost:8080/"
        },
        "outputId": "0da2a083-48c1-4acc-d1e4-71067f57f303"
      },
      "outputs": [
        {
          "output_type": "stream",
          "name": "stdout",
          "text": [
            "Accuracy with k=5 0.58\n",
            "Accuracy with k=1 0.53\n"
          ]
        }
      ],
      "source": [
        "#Predict Accuracy for both k values\n",
        "\n",
        "print(\"Accuracy with k=5\", accuracy_score(y_test, yKnn_pred_5))\n",
        "print(\"Accuracy with k=1\", accuracy_score(y_test, yKnn_pred_1))"
      ]
    },
    {
      "cell_type": "code",
      "execution_count": null,
      "metadata": {
        "id": "keqXP_KYrULr",
        "colab": {
          "base_uri": "https://localhost:8080/",
          "height": 486
        },
        "outputId": "89120e35-a02b-45f7-f30e-0afda4f26077"
      },
      "outputs": [
        {
          "output_type": "display_data",
          "data": {
            "text/plain": [
              "<Figure size 2500x1000 with 2 Axes>"
            ],
            "image/png": "[encoded data removed]"
          },
          "metadata": {}
        }
      ],
      "source": [
        "plt.figure(figsize = (25,10))\n",
        "plt.subplot(1,2,1)\n",
        "plt.scatter(x_test['battery_power'], x_test['battery_power'], c=yKnn_pred_5, s=100,edgecolors='black')\n",
        "\n",
        "plt.title(\"Predicted values with k=5\", fontsize=20)\n",
        "\n",
        "\n",
        "plt.subplot(1,2,2)\n",
        "plt.scatter(x_test['battery_power'], x_test['battery_power'], c=yKnn_pred_1,  s=100,edgecolors='black')\n",
        "plt.title(\"Predicted values with k=1\", fontsize=20)\n",
        "\n",
        "\n",
        "plt.show()"
      ]
    },
    {
      "cell_type": "code",
      "execution_count": null,
      "metadata": {
        "id": "Sx_stZSarW43",
        "colab": {
          "base_uri": "https://localhost:8080/",
          "height": 564
        },
        "outputId": "3bc45104-cd4b-4557-fb4e-e6323ded6381"
      },
      "outputs": [
        {
          "output_type": "display_data",
          "data": {
            "text/plain": [
              "<Figure size 1000x600 with 2 Axes>"
            ],
            "image/png": "[encoded data removed]"
          },
          "metadata": {}
        }
      ],
      "source": [
        "knnconfusion= confusion_matrix(y_test,yKnn_pred_5)\n",
        "plt.figure(figsize=(10,6))\n",
        "sns.heatmap(knnconfusion, annot=True, fmt='d', cmap=\"Blues\")\n",
        "\n",
        "plt.xlabel(\"Predicted\")\n",
        "plt.ylabel(\"Truth\")\n",
        "plt.title(\"KNN model with K=5 confusion matrix \")\n",
        "plt.show()"
      ]
    },
    {
      "cell_type": "code",
      "execution_count": null,
      "metadata": {
        "id": "p3aYz_xRrW_g",
        "colab": {
          "base_uri": "https://localhost:8080/"
        },
        "outputId": "debaa395-f7f3-41c6-d070-bc0b3fa848d5"
      },
      "outputs": [
        {
          "output_type": "stream",
          "name": "stdout",
          "text": [
            "              precision    recall  f1-score   support\n",
            "\n",
            "           0       0.71      0.67      0.69       151\n",
            "           1       0.41      0.51      0.45       146\n",
            "           2       0.47      0.49      0.48       148\n",
            "           3       0.85      0.64      0.73       155\n",
            "\n",
            "    accuracy                           0.58       600\n",
            "   macro avg       0.61      0.58      0.59       600\n",
            "weighted avg       0.61      0.58      0.59       600\n",
            "\n"
          ]
        }
      ],
      "source": [
        "print(classification_report(y_test,yKnn_pred_5))"
      ]
    },
    {
      "cell_type": "markdown",
      "source": [
        "So we can conclude that the Logistic Regression Model is the best model for this dataset with 95.8% accuracy"
      ],
      "metadata": {
        "id": "wdf3Y6AD9kmv"
      }
    },
    {
      "cell_type": "markdown",
      "metadata": {
        "id": "0Pn_l6oPrXIN"
      },
      "source": [
        "# Part 2"
      ]
    },
    {
      "cell_type": "markdown",
      "metadata": {
        "id": "IQro4H4wsZs4"
      },
      "source": [
        "##1. Q1\n",
        "  Loop:\n",
        "\n",
        "Question:\n",
        "Write a Python program that uses a 'for' loop to print all even numbers from 1 to 10. Then, use 'while' loop."
      ]
    },
    {
      "cell_type": "code",
      "execution_count": null,
      "metadata": {
        "id": "Noq391vXKJch",
        "colab": {
          "base_uri": "https://localhost:8080/"
        },
        "outputId": "c66c0682-375a-4412-9736-ebcf39bf2092"
      },
      "outputs": [
        {
          "output_type": "stream",
          "name": "stdout",
          "text": [
            "Even numbers from 1 to 10 using for loop:\n",
            "2 4 6 8 10 \n",
            "Even numbers from 1 to 10 using while loop:\n",
            "2 4 6 8 10 "
          ]
        }
      ],
      "source": [
        "# Using for loop\n",
        "print(\"Even numbers from 1 to 10 using for loop:\")\n",
        "for i in range(1, 11):\n",
        "    if i % 2 == 0:\n",
        "        print(i, end=\" \")\n",
        "\n",
        "# Using while loop\n",
        "print(\"\\nEven numbers from 1 to 10 using while loop:\")\n",
        "num = 1\n",
        "while num <= 10:\n",
        "    if num % 2 == 0:\n",
        "        print(num, end=\" \")\n",
        "    num += 1"
      ]
    },
    {
      "cell_type": "markdown",
      "metadata": {
        "id": "JXjK0BVVt4HX"
      },
      "source": [
        "##2. Q2"
      ]
    },
    {
      "cell_type": "markdown",
      "metadata": {
        "id": "s6uGUnZysdfY"
      },
      "source": [
        "2. Control Flows:\n",
        "Question:\n",
        "Create a Python function named grade_classifier that takes a student's score as an argument and returns a string indicating their grade. Use the following criteria:\n",
        "\n",
        "Score >= 90: \"A\"\n",
        "80 <= Score < 90: \"B\"\n",
        "70 <= Score < 80: \"C\"\n",
        "60 <= Score < 70: \"D\"\n",
        "Score < 60: \"F\""
      ]
    },
    {
      "cell_type": "code",
      "execution_count": null,
      "metadata": {
        "id": "P34WcW-KtDfS",
        "colab": {
          "base_uri": "https://localhost:8080/"
        },
        "outputId": "05594538-656b-41ed-8afe-02aa4cbc01b0"
      },
      "outputs": [
        {
          "output_type": "stream",
          "name": "stdout",
          "text": [
            "B\n"
          ]
        }
      ],
      "source": [
        "def grade_classifier(score):\n",
        "  if 90 <= score <= 100:\n",
        "        return \"A\"\n",
        "  elif  80 <= score < 90 :\n",
        "        return \"B\"\n",
        "  elif 70 <= score < 80 :\n",
        "        return \"C\"\n",
        "  elif 60 <= score < 70 :\n",
        "        return \"D\"\n",
        "  else:\n",
        "        return \"F\"\n",
        "\n",
        "print(grade_classifier(88))"
      ]
    },
    {
      "cell_type": "markdown",
      "metadata": {
        "id": "YV3M4feRt8kz"
      },
      "source": [
        "##3. Q3"
      ]
    },
    {
      "cell_type": "markdown",
      "metadata": {
        "id": "NLVauqZ5tDza"
      },
      "source": [
        "3. If Conditions:\n",
        "Question:\n",
        "Write a Python program that prompts the user to enter their age. Use if-elif-else statements to categorize and print the user's age group as follows:\n",
        "\n",
        "If the age is less than 13, print \"Child.\"\n",
        "If the age is between 13 and 19 (inclusive), print \"Teenager.\"\n",
        "If the age is between 20 and 59 (inclusive), print \"Adult.\"\n",
        "If the age is 60 or older, print \"Senior Citizen.\""
      ]
    },
    {
      "cell_type": "code",
      "execution_count": null,
      "metadata": {
        "id": "tvFNPBxMtEXZ",
        "colab": {
          "base_uri": "https://localhost:8080/"
        },
        "outputId": "c73116dd-dfaf-4674-f9e0-0fe2e11e11db"
      },
      "outputs": [
        {
          "output_type": "stream",
          "name": "stdout",
          "text": [
            "Please enter a persons age:23\n",
            "Adult.\n"
          ]
        }
      ],
      "source": [
        "age = int(input('Please enter a persons age:'))\n",
        "if age < 13: print('Child.')\n",
        "elif age >= 13 and age <= 19: print('Teenager.')\n",
        "\n",
        "elif age >= 20 and age <= 59: print('Adult.')\n",
        "\n",
        "elif age >=60: print ('Senior Citizen.')"
      ]
    },
    {
      "cell_type": "markdown",
      "metadata": {
        "id": "4XlXVjFWuFtp"
      },
      "source": [
        "##4. Q4"
      ]
    },
    {
      "cell_type": "markdown",
      "metadata": {
        "id": "xbJ6fcpltI6n"
      },
      "source": [
        "4. Functions:\n",
        "Question:\n",
        "Define a Python function named multiply_numbers that takes two parameters (num1 and num2) and returns their product. Test the function with values 5 and 7."
      ]
    },
    {
      "cell_type": "code",
      "execution_count": null,
      "metadata": {
        "id": "jrgIPlQJ93Qt",
        "colab": {
          "base_uri": "https://localhost:8080/"
        },
        "outputId": "c974ee79-bc8a-4679-f3e0-4bc3cf7477e0"
      },
      "outputs": [
        {
          "output_type": "stream",
          "name": "stdout",
          "text": [
            "Result: 35\n"
          ]
        }
      ],
      "source": [
        "def multiply_numbers(num1, num2):\n",
        "    \"\"\"\n",
        "    Multiply two numbers together.\n",
        "\n",
        "    Parameters:\n",
        "    - num1: First number (int or float)\n",
        "    - num2: Second number (int or float)\n",
        "\n",
        "    Returns:\n",
        "    - Product of num1 and num2\n",
        "    \"\"\"\n",
        "    return num1 * num2\n",
        "\n",
        "# Test the function with values 5 and 7\n",
        "result = multiply_numbers(5, 7)\n",
        "print(\"Result:\", result)"
      ]
    },
    {
      "cell_type": "markdown",
      "metadata": {
        "id": "qbLAQAi7uJlh"
      },
      "source": [
        "##5. Q5"
      ]
    },
    {
      "cell_type": "markdown",
      "metadata": {
        "id": "4ZnKhIJ3tWaT"
      },
      "source": [
        "5. Combine All the Above:\n",
        "Question:\n",
        "Write a Python program that does the following:\n",
        "\n",
        "Prompts the user to enter a number (user_num).\n",
        "Uses a loop to print all numbers from 1 to user_num (inclusive) that are divisible by 3.\n"
      ]
    },
    {
      "cell_type": "code",
      "execution_count": null,
      "metadata": {
        "id": "WB7HAJ8utW7D",
        "colab": {
          "base_uri": "https://localhost:8080/"
        },
        "outputId": "01d60a45-8157-4207-be24-7cad8ad6be4a"
      },
      "outputs": [
        {
          "output_type": "stream",
          "name": "stdout",
          "text": [
            "Please enter Number:20\n",
            "0 3 6 9 12 15 18 "
          ]
        }
      ],
      "source": [
        "# Result function with N\n",
        "def result(N):\n",
        "\n",
        "    # iterate from 0 to N+1\n",
        "    for num in range(N+1):\n",
        "\n",
        "            # Short-circuit operator is used\n",
        "            if num % 3 == 0 :\n",
        "                print(str(num) + \" \", end = \"\")\n",
        "\n",
        "            else:\n",
        "                pass\n",
        "\n",
        "\n",
        "  # input goes here\n",
        "N = int(input('Please enter Number:'))\n",
        "\n",
        "  # Calling function\n",
        "result(N)"
      ]
    },
    {
      "cell_type": "code",
      "source": [],
      "metadata": {
        "id": "L3UMYNQ7EhfV"
      },
      "execution_count": null,
      "outputs": []
    }
  ],
  "metadata": {
    "colab": {
      "provenance": [],
      "toc_visible": true,
      "include_colab_link": true
    },
    "kernelspec": {
      "display_name": "Python 3",
      "name": "python3"
    },
    "language_info": {
      "name": "python"
    }
  },
  "nbformat": 4,
  "nbformat_minor": 0
}